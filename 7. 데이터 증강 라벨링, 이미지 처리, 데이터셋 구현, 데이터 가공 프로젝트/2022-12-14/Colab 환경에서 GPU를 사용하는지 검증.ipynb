{
  "cells": [
    {
      "cell_type": "code",
      "execution_count": 4,
      "metadata": {
        "colab": {
          "base_uri": "https://localhost:8080/"
        },
        "id": "nQUZ_WOXDHOj",
        "outputId": "a82e9553-9e40-4881-ef59-d2c0ff4e9f1a"
      },
      "outputs": [
        {
          "name": "stdout",
          "output_type": "stream",
          "text": [
            "Device tensor is stored on : cuda:0\n"
          ]
        }
      ],
      "source": [
        "# Colab 환경에서 GPU 사용하는지 검증\n",
        "import torch\n",
        "tensor = torch.rand(3,4)\n",
        "if torch.cuda.is_available() :\n",
        "    tensor = tensor.to('cuda')\n",
        "else : \n",
        "    tensor = tensor.to('cpu')\n",
        "print(f\"Device tensor is stored on : {tensor.device}\")"
      ]
    }
  ],
  "metadata": {
    "accelerator": "GPU",
    "colab": {
      "provenance": []
    },
    "gpuClass": "standard",
    "kernelspec": {
      "display_name": "Python 3",
      "name": "python3"
    },
    "language_info": {
      "name": "python"
    }
  },
  "nbformat": 4,
  "nbformat_minor": 0
}
