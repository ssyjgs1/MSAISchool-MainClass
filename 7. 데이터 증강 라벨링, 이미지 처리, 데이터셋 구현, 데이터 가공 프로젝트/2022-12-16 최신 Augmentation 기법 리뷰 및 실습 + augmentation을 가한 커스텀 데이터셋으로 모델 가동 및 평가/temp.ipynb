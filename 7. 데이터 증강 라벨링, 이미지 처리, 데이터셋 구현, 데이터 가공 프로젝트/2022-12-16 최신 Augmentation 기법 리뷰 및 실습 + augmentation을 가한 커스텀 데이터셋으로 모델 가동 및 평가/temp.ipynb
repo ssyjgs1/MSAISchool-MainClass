{
 "cells": [
  {
   "cell_type": "code",
   "execution_count": 3,
   "metadata": {},
   "outputs": [],
   "source": [
    "import random\n",
    "import cv2\n",
    "import albumentations as A\n",
    "import json\n",
    "from torch.utils.data.dataset import Dataset\n",
    "import os\n",
    "import glob\n",
    "from PIL import Image\n",
    "from tqdm import tqdm"
   ]
  },
  {
   "cell_type": "code",
   "execution_count": 7,
   "metadata": {},
   "outputs": [
    {
     "name": "stderr",
     "output_type": "stream",
     "text": [
      "1it [00:00, ?it/s]\n"
     ]
    }
   ],
   "source": [
    "with open(\"homework\\instances_default.json\", \"r\") as f :\n",
    "    for i, entry in enumerate(tqdm(f)):\n",
    "        data = dict(json.loads(entry))\n",
    "\n",
    "        cat = data[\"categories\"]\n",
    "        anno = data[\"annotations\"]"
   ]
  },
  {
   "cell_type": "code",
   "execution_count": 9,
   "metadata": {},
   "outputs": [
    {
     "data": {
      "text/plain": [
       "[{'id': 1,\n",
       "  'image_id': 1,\n",
       "  'category_id': 2,\n",
       "  'segmentation': [],\n",
       "  'area': 42499.856999999996,\n",
       "  'bbox': [468.94, 92.01, 171.06, 248.45],\n",
       "  'iscrowd': 0,\n",
       "  'attributes': {'occluded': False}},\n",
       " {'id': 2,\n",
       "  'image_id': 1,\n",
       "  'category_id': 1,\n",
       "  'segmentation': [],\n",
       "  'area': 42994.3464,\n",
       "  'bbox': [3.96, 183.38, 200.88, 214.03],\n",
       "  'iscrowd': 0,\n",
       "  'attributes': {'occluded': False}}]"
      ]
     },
     "execution_count": 9,
     "metadata": {},
     "output_type": "execute_result"
    }
   ],
   "source": [
    "anno"
   ]
  },
  {
   "cell_type": "code",
   "execution_count": 10,
   "metadata": {},
   "outputs": [
    {
     "name": "stdout",
     "output_type": "stream",
     "text": [
      "1\n",
      "2\n"
     ]
    }
   ],
   "source": [
    "for i in range(1,3) :\n",
    "    print(i)"
   ]
  },
  {
   "cell_type": "code",
   "execution_count": null,
   "metadata": {},
   "outputs": [],
   "source": []
  }
 ],
 "metadata": {
  "kernelspec": {
   "display_name": "envuntil2022-12-15",
   "language": "python",
   "name": "python3"
  },
  "language_info": {
   "codemirror_mode": {
    "name": "ipython",
    "version": 3
   },
   "file_extension": ".py",
   "mimetype": "text/x-python",
   "name": "python",
   "nbconvert_exporter": "python",
   "pygments_lexer": "ipython3",
   "version": "3.9.15 (main, Nov 24 2022, 14:39:17) [MSC v.1916 64 bit (AMD64)]"
  },
  "orig_nbformat": 4,
  "vscode": {
   "interpreter": {
    "hash": "39ef33c844a90af39ae28ec256c7ddbe9f6a65ff1a98b8de5c7374e4d816b688"
   }
  }
 },
 "nbformat": 4,
 "nbformat_minor": 2
}
