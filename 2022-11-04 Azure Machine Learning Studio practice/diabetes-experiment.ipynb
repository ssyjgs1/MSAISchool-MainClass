{
  "cells": [
    {
      "cell_type": "code",
      "execution_count": 1,
      "metadata": {
        "gather": {
          "logged": 1667541137266
        }
      },
      "outputs": [
        {
          "name": "stdout",
          "output_type": "stream",
          "text": [
            "Workspace name:labuser77ml Azure region: japaneast Subscription ID7ae06d59-97e1-4a36-bbfe-efb081b9b03b Resource Group:rg77\n"
          ]
        }
      ],
      "source": [
        "from azureml.core import Workspace\n",
        "ws = Workspace.from_config()\n",
        "print('Workspace name:' + ws.name,\n",
        "    'Azure region: ' + ws.location,\n",
        "    'Subscription ID' + ws.subscription_id,\n",
        "    'Resource Group:' + ws.resource_group\n",
        ")"
      ]
    },
    {
      "cell_type": "code",
      "execution_count": 2,
      "metadata": {
        "gather": {
          "logged": 1667541137466
        },
        "jupyter": {
          "outputs_hidden": false,
          "source_hidden": false
        },
        "nteract": {
          "transient": {
            "deleting": false
          }
        }
      },
      "outputs": [],
      "source": [
        "#실험공간의 생성\n",
        "from azureml.core import Experiment\n",
        "experiment = Experiment(workspace=ws, name='diabetes-experiment')"
      ]
    },
    {
      "cell_type": "code",
      "execution_count": 3,
      "metadata": {
        "gather": {
          "logged": 1667541145259
        },
        "jupyter": {
          "outputs_hidden": false,
          "source_hidden": false
        },
        "nteract": {
          "transient": {
            "deleting": false
          }
        }
      },
      "outputs": [
        {
          "name": "stdout",
          "output_type": "stream",
          "text": [
            "     AGE  SEX   BMI     BP   S1     S2    S3    S4      S5   S6\n",
            "440   36    1  30.0   95.0  201  125.2  42.0  4.79  5.1299   85\n",
            "389   47    2  26.5   70.0  181  104.8  63.0  3.00  4.1897   70\n",
            "5     23    1  22.6   89.0  139   64.8  61.0  2.00  4.1897   68\n",
            "289   28    2  31.5   83.0  228  149.4  38.0  6.00  5.3132   83\n",
            "101   53    2  22.2  113.0  197  115.2  67.0  3.00  4.3041  100\n",
            "..   ...  ...   ...    ...  ...    ...   ...   ...     ...  ...\n",
            "122   62    2  33.9  101.0  221  156.4  35.0  6.00  4.9972  103\n",
            "51    65    2  27.9  103.0  159   96.8  42.0  4.00  4.6151   86\n",
            "119   53    1  22.0   94.0  175   88.0  59.0  3.00  4.9416   98\n",
            "316   53    2  27.7   95.0  190  101.8  41.0  5.00  5.4638  101\n",
            "20    35    1  21.1   82.0  156   87.8  50.0  3.00  4.5109   95\n",
            "\n",
            "[353 rows x 10 columns]\n"
          ]
        }
      ],
      "source": [
        "from azureml.opendatasets import Diabetes\n",
        "from sklearn.model_selection import train_test_split\n",
        "\n",
        "x_df = Diabetes.get_tabular_dataset().to_pandas_dataframe().dropna()\n",
        "y_df = x_df.pop('Y')\n",
        "\n",
        "X_train, X_test, y_train, y_test = train_test_split(x_df, y_df, test_size=0.2, random_state=66)\n",
        "print(X_train)"
      ]
    },
    {
      "cell_type": "code",
      "execution_count": 4,
      "metadata": {
        "gather": {
          "logged": 1667541205738
        },
        "jupyter": {
          "outputs_hidden": false,
          "source_hidden": false
        },
        "nteract": {
          "transient": {
            "deleting": false
          }
        }
      },
      "outputs": [
        {
          "name": "stderr",
          "output_type": "stream",
          "text": [
            "/anaconda/envs/azureml_py38/lib/python3.8/site-packages/sklearn/externals/joblib/__init__.py:15: FutureWarning: sklearn.externals.joblib is deprecated in 0.21 and will be removed in 0.23. Please import this functionality directly from joblib, which can be installed with: pip install joblib. If this warning is raised when loading pickled models, you may need to re-serialize those models with scikit-learn 0.21+.\n",
            "  warnings.warn(msg, category=FutureWarning)\n"
          ]
        },
        {
          "name": "stdout",
          "output_type": "stream",
          "text": [
            "0.1 experiment completed\n",
            "0.2 experiment completed\n",
            "0.3 experiment completed\n",
            "0.4 experiment completed\n",
            "0.5 experiment completed\n",
            "0.6 experiment completed\n",
            "0.7 experiment completed\n",
            "0.8 experiment completed\n",
            "0.9 experiment completed\n",
            "1.0 experiment completed\n"
          ]
        }
      ],
      "source": [
        "from sklearn.linear_model import Ridge\n",
        "from sklearn.metrics import mean_squared_error\n",
        "from sklearn.externals import joblib\n",
        "import math\n",
        "\n",
        "alphas = [0.1,0.2,0.3,0.4,0.5,0.6,0.7,0.8,0.9,1.0]\n",
        "\n",
        "for alpha in alphas:\n",
        "    run = experiment.start_logging()\n",
        "    run.log('alpha_value', alpha)\n",
        "\n",
        "    model = Ridge(alpha=alpha)\n",
        "    model.fit(X_train,y_train)\n",
        "\n",
        "    y_pred = model.predict(X_test)\n",
        "    rmse = math.sqrt(mean_squared_error(y_test,y_pred))\n",
        "    run.log('rmse',rmse)\n",
        "\n",
        "    model_name = 'model_alpha_' + str(alpha) + '.pkl'\n",
        "    filename = 'outputs/' + model_name\n",
        "\n",
        "    joblib.dump(value=model,filename=filename)\n",
        "    run.upload_file(name=model_name, path_or_stream=filename)\n",
        "    run.complete()\n",
        "\n",
        "    print(f'{alpha} experiment completed')"
      ]
    },
    {
      "cell_type": "code",
      "execution_count": 5,
      "metadata": {
        "gather": {
          "logged": 1667541205876
        },
        "jupyter": {
          "outputs_hidden": false,
          "source_hidden": false
        },
        "nteract": {
          "transient": {
            "deleting": false
          }
        }
      },
      "outputs": [
        {
          "data": {
            "text/html": [
              "<table style=\"width:100%\"><tr><th>Name</th><th>Workspace</th><th>Report Page</th><th>Docs Page</th></tr><tr><td>diabetes-experiment</td><td>labuser77ml</td><td><a href=\"https://ml.azure.com/experiments/id/da0b59fa-f855-4e41-bb71-aa196591f3db?wsid=/subscriptions/7ae06d59-97e1-4a36-bbfe-efb081b9b03b/resourcegroups/rg77/workspaces/labuser77ml&amp;tid=feae1453-5da6-41f2-a2e8-fb4661fbbb21\" target=\"_blank\" rel=\"noopener\">Link to Azure Machine Learning studio</a></td><td><a href=\"https://docs.microsoft.com/en-us/python/api/azureml-core/azureml.core.experiment.Experiment?view=azure-ml-py\" target=\"_blank\" rel=\"noopener\">Link to Documentation</a></td></tr></table>"
            ],
            "text/plain": [
              "Experiment(Name: diabetes-experiment,\n",
              "Workspace: labuser77ml)"
            ]
          },
          "execution_count": 5,
          "metadata": {},
          "output_type": "execute_result"
        }
      ],
      "source": [
        "experiment"
      ]
    },
    {
      "cell_type": "code",
      "execution_count": 6,
      "metadata": {
        "gather": {
          "logged": 1667541206009
        },
        "jupyter": {
          "outputs_hidden": false,
          "source_hidden": false
        },
        "nteract": {
          "transient": {
            "deleting": false
          }
        }
      },
      "outputs": [
        {
          "data": {
            "text/plain": [
              "<generator object Run._rehydrate_runs at 0x7f39cc5494a0>"
            ]
          },
          "execution_count": 6,
          "metadata": {},
          "output_type": "execute_result"
        }
      ],
      "source": [
        "experiment.get_runs()"
      ]
    },
    {
      "cell_type": "code",
      "execution_count": 7,
      "metadata": {
        "gather": {
          "logged": 1667541210606
        },
        "jupyter": {
          "outputs_hidden": false,
          "source_hidden": false
        },
        "nteract": {
          "transient": {
            "deleting": false
          }
        }
      },
      "outputs": [
        {
          "name": "stdout",
          "output_type": "stream",
          "text": [
            "Best run_id:f2a4df72-1ebd-418b-93ea-d38e999c29b9\n",
            "Best rmse:56.605203313391435\n"
          ]
        }
      ],
      "source": [
        "# Best model 탐색 후 다운로드 \n",
        "\n",
        "minium_rmse_runid = None\n",
        "minium_rmse = None\n",
        "\n",
        "for run in experiment.get_runs():\n",
        "    run_metrics = run.get_metrics()\n",
        "    run_details = run.get_details()\n",
        "\n",
        "    run_rmse = run_metrics['rmse']\n",
        "    run_id = run_details['runId']\n",
        "\n",
        "    if minium_rmse is None:\n",
        "        minium_rmse = run_rmse\n",
        "        minium_rmse_runid = run_id\n",
        "    else:\n",
        "        if run_rmse < minium_rmse:\n",
        "            minium_rmse = run_rmse\n",
        "            minium_rmse_runid = run_id\n",
        "\n",
        "print('Best run_id:' + minium_rmse_runid)\n",
        "print('Best rmse:' + str(minium_rmse))"
      ]
    },
    {
      "cell_type": "code",
      "execution_count": 8,
      "metadata": {
        "gather": {
          "logged": 1667541210886
        },
        "jupyter": {
          "outputs_hidden": false,
          "source_hidden": false
        },
        "nteract": {
          "transient": {
            "deleting": false
          }
        }
      },
      "outputs": [],
      "source": [
        "from azureml.core import Run\n",
        "best_run = Run(experiment=experiment, run_id = minium_rmse_runid)\n",
        "\n",
        "best_run.download_file(name=str(best_run.get_file_names()[0]))"
      ]
    },
    {
      "cell_type": "code",
      "execution_count": 9,
      "metadata": {
        "gather": {
          "logged": 1667541213462
        },
        "jupyter": {
          "outputs_hidden": false,
          "source_hidden": false
        },
        "nteract": {
          "transient": {
            "deleting": false
          }
        }
      },
      "outputs": [
        {
          "name": "stderr",
          "output_type": "stream",
          "text": [
            "\"datastore.upload_files\" is deprecated after version 1.0.69. Please use \"FileDatasetFactory.upload_directory\" instead. See Dataset API change notice at https://aka.ms/dataset-deprecation.\n"
          ]
        }
      ],
      "source": [
        "import numpy as np\n",
        "from azureml.core import Dataset\n",
        "\n",
        "np.savetxt('features.csv', X_train, delimiter=',')\n",
        "np.savetxt('labels.csv', y_train, delimiter=',')\n",
        "\n",
        "datastore = ws.get_default_datastore()\n",
        "datastore.upload_files(files=['./features.csv', './labels.csv'],\n",
        "                       target_path='diabetes-experiment/',\n",
        "                       overwrite=True)\n",
        "\n",
        "input_dataset = Dataset.Tabular.from_delimited_files(path=[(datastore, 'diabetes-experiment/features.csv')])\n",
        "output_dataset = Dataset.Tabular.from_delimited_files(path=[(datastore, 'diabetes-experiment/labels.csv')])"
      ]
    },
    {
      "cell_type": "code",
      "execution_count": 10,
      "metadata": {
        "gather": {
          "logged": 1667541215548
        },
        "jupyter": {
          "outputs_hidden": false,
          "source_hidden": false
        },
        "nteract": {
          "transient": {
            "deleting": false
          }
        }
      },
      "outputs": [
        {
          "name": "stdout",
          "output_type": "stream",
          "text": [
            "Registering model diabetes-experiment-model\n",
            "Name: diabetes-experiment-model\n",
            "Version: 1\n"
          ]
        }
      ],
      "source": [
        "import sklearn\n",
        "\n",
        "from azureml.core import Model\n",
        "from azureml.core.resource_configuration import ResourceConfiguration\n",
        "\n",
        "\n",
        "model = Model.register(workspace=ws,\n",
        "                       model_name='diabetes-experiment-model',\n",
        "                       model_path=f\"./{str(best_run.get_file_names()[0])}\", \n",
        "                       model_framework=Model.Framework.SCIKITLEARN,  \n",
        "                       model_framework_version=sklearn.__version__,  \n",
        "                       sample_input_dataset=input_dataset,\n",
        "                       sample_output_dataset=output_dataset,\n",
        "                       resource_configuration=ResourceConfiguration(cpu=1, memory_in_gb=0.5),\n",
        "                       description='Ridge regression model to predict diabetes progression.',\n",
        "                       tags={'area': 'diabetes', 'type': 'regression'})\n",
        "\n",
        "print('Name:', model.name)\n",
        "print('Version:', model.version)"
      ]
    },
    {
      "cell_type": "code",
      "execution_count": 11,
      "metadata": {
        "gather": {
          "logged": 1667542617429
        },
        "jupyter": {
          "outputs_hidden": false,
          "source_hidden": false
        },
        "nteract": {
          "transient": {
            "deleting": false
          }
        }
      },
      "outputs": [
        {
          "name": "stdout",
          "output_type": "stream",
          "text": [
            "Tips: You can try get_logs(): https://aka.ms/debugimage#dockerlog or local deployment: https://aka.ms/debugimage#debug-locally to debug if deployment takes longer than 10 minutes.\n",
            "Running\n",
            "2022-11-04 05:53:48+00:00 Creating Container Registry if not exists..\n",
            "2022-11-04 06:03:49+00:00 Registering the environment.\n",
            "2022-11-04 06:03:50+00:00 Uploading autogenerated assets for no-code-deployment..\n",
            "2022-11-04 06:03:54+00:00 Building image..\n",
            "2022-11-04 06:14:09+00:00 Generating deployment configuration.\n",
            "2022-11-04 06:14:10+00:00 Submitting deployment to compute..\n",
            "2022-11-04 06:14:17+00:00 Checking the status of deployment diabetes-service..\n",
            "2022-11-04 06:16:12+00:00 Checking the status of inference endpoint diabetes-service.\n",
            "Succeeded\n",
            "ACI service creation operation finished, operation \"Succeeded\"\n"
          ]
        }
      ],
      "source": [
        "service_name = 'diabetes-service'\n",
        "\n",
        "service = Model.deploy(ws,service_name,[model],overwrite=True)\n",
        "service.wait_for_deployment(show_output=True)"
      ]
    },
    {
      "cell_type": "code",
      "execution_count": 12,
      "metadata": {
        "gather": {
          "logged": 1667542617561
        },
        "jupyter": {
          "outputs_hidden": false,
          "source_hidden": false
        },
        "nteract": {
          "transient": {
            "deleting": false
          }
        }
      },
      "outputs": [
        {
          "name": "stdout",
          "output_type": "stream",
          "text": [
            "{'predict': [204.94506937062147, 74.4641225933554]}\n"
          ]
        }
      ],
      "source": [
        "import json\n",
        "input_payload = json.dumps({\n",
        "    'data': X_train[0:2].values.tolist(),\n",
        "    'method': 'predict' }) # 예측해달라\n",
        "output = service.run(input_payload)\n",
        "print(output)"
      ]
    }
  ],
  "metadata": {
    "kernel_info": {
      "name": "python38-azureml"
    },
    "kernelspec": {
      "display_name": "Python 3.8 - AzureML",
      "language": "python",
      "name": "python38-azureml"
    },
    "language_info": {
      "codemirror_mode": {
        "name": "ipython",
        "version": 3
      },
      "file_extension": ".py",
      "mimetype": "text/x-python",
      "name": "python",
      "nbconvert_exporter": "python",
      "pygments_lexer": "ipython3",
      "version": "3.8.5"
    },
    "microsoft": {
      "host": {
        "AzureML": {
          "notebookHasBeenCompleted": true
        }
      }
    },
    "nteract": {
      "version": "nteract-front-end@1.0.0"
    }
  },
  "nbformat": 4,
  "nbformat_minor": 2
}
