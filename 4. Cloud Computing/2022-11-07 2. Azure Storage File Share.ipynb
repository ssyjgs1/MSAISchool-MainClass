{
  "nbformat": 4,
  "nbformat_minor": 0,
  "metadata": {
    "colab": {
      "provenance": []
    },
    "kernelspec": {
      "name": "python3",
      "display_name": "Python 3"
    },
    "language_info": {
      "name": "python"
    }
  },
  "cells": [
    {
      "cell_type": "code",
      "execution_count": 1,
      "metadata": {
        "colab": {
          "base_uri": "https://localhost:8080/"
        },
        "id": "Gp6ByBYoJHnz",
        "outputId": "4395f736-c97d-41e6-f428-63bcc4d3dc8f"
      },
      "outputs": [
        {
          "output_type": "stream",
          "name": "stdout",
          "text": [
            "Looking in indexes: https://pypi.org/simple, https://us-python.pkg.dev/colab-wheels/public/simple/\n",
            "Requirement already satisfied: azure-storage-file in /usr/local/lib/python3.7/dist-packages (2.1.0)\n",
            "Requirement already satisfied: azure-common>=1.1.5 in /usr/local/lib/python3.7/dist-packages (from azure-storage-file) (1.1.28)\n",
            "Requirement already satisfied: azure-storage-common~=2.1 in /usr/local/lib/python3.7/dist-packages (from azure-storage-file) (2.1.0)\n",
            "Requirement already satisfied: python-dateutil in /usr/local/lib/python3.7/dist-packages (from azure-storage-common~=2.1->azure-storage-file) (2.8.2)\n",
            "Requirement already satisfied: cryptography in /usr/local/lib/python3.7/dist-packages (from azure-storage-common~=2.1->azure-storage-file) (38.0.3)\n",
            "Requirement already satisfied: requests in /usr/local/lib/python3.7/dist-packages (from azure-storage-common~=2.1->azure-storage-file) (2.23.0)\n",
            "Requirement already satisfied: cffi>=1.12 in /usr/local/lib/python3.7/dist-packages (from cryptography->azure-storage-common~=2.1->azure-storage-file) (1.15.1)\n",
            "Requirement already satisfied: pycparser in /usr/local/lib/python3.7/dist-packages (from cffi>=1.12->cryptography->azure-storage-common~=2.1->azure-storage-file) (2.21)\n",
            "Requirement already satisfied: six>=1.5 in /usr/local/lib/python3.7/dist-packages (from python-dateutil->azure-storage-common~=2.1->azure-storage-file) (1.15.0)\n",
            "Requirement already satisfied: chardet<4,>=3.0.2 in /usr/local/lib/python3.7/dist-packages (from requests->azure-storage-common~=2.1->azure-storage-file) (3.0.4)\n",
            "Requirement already satisfied: urllib3!=1.25.0,!=1.25.1,<1.26,>=1.21.1 in /usr/local/lib/python3.7/dist-packages (from requests->azure-storage-common~=2.1->azure-storage-file) (1.24.3)\n",
            "Requirement already satisfied: certifi>=2017.4.17 in /usr/local/lib/python3.7/dist-packages (from requests->azure-storage-common~=2.1->azure-storage-file) (2022.9.24)\n",
            "Requirement already satisfied: idna<3,>=2.5 in /usr/local/lib/python3.7/dist-packages (from requests->azure-storage-common~=2.1->azure-storage-file) (2.10)\n"
          ]
        }
      ],
      "source": [
        "!pip install azure-storage-file"
      ]
    },
    {
      "cell_type": "code",
      "source": [
        "from azure.storage.file import FileService\n",
        "file_service = FileService(account_name='labuser77storage',\n",
        "                           account_key='wDrxVESOT++KacFS87CapyF7Fm6XrfKV8BAm5g5MKv1Wh36I4s6qHx3LosbsPpVc4EJw+jO3pNZv+AStAotBZA==')"
      ],
      "metadata": {
        "id": "1Yo0l8JtJSEe"
      },
      "execution_count": 2,
      "outputs": []
    },
    {
      "cell_type": "code",
      "source": [
        "file_service.create_share('myshare')"
      ],
      "metadata": {
        "colab": {
          "base_uri": "https://localhost:8080/"
        },
        "id": "CPO3aw8FMz5q",
        "outputId": "4fdf654c-529b-4e8f-e089-8bc157e9200c"
      },
      "execution_count": 3,
      "outputs": [
        {
          "output_type": "execute_result",
          "data": {
            "text/plain": [
              "False"
            ]
          },
          "metadata": {},
          "execution_count": 3
        }
      ]
    },
    {
      "cell_type": "code",
      "source": [
        "file_service.create_directory('myshare','sampledir')"
      ],
      "metadata": {
        "colab": {
          "base_uri": "https://localhost:8080/"
        },
        "id": "gPBpET9iNDNM",
        "outputId": "f157a9cf-fb45-4c91-ed4b-b10950aecf29"
      },
      "execution_count": 4,
      "outputs": [
        {
          "output_type": "execute_result",
          "data": {
            "text/plain": [
              "False"
            ]
          },
          "metadata": {},
          "execution_count": 4
        }
      ]
    },
    {
      "cell_type": "code",
      "source": [
        "# 파일 업로드 할 때 컨텐츠 설정을 위한 패키지\n",
        "from azure.storage.file import ContentSettings\n",
        "\n",
        "file_service.create_file_from_path('myshare', # 경로명\n",
        "                                   None, # 하위 폴더 지정 안 함\n",
        "                                   'myfile', # 올릴 파일 이름 지정\n",
        "                                   '중꺾마.jpg',\n",
        "                                   content_settings=ContentSettings(content_type='image/jpg'))"
      ],
      "metadata": {
        "id": "8bGwlyEJNiEM"
      },
      "execution_count": 5,
      "outputs": []
    },
    {
      "cell_type": "code",
      "source": [
        "# 파일 목록 확인하기기\n",
        "generator = file_service.list_directories_and_files('myshare')\n",
        "for file_or_dir in generator:\n",
        "    print(file_or_dir.name)"
      ],
      "metadata": {
        "colab": {
          "base_uri": "https://localhost:8080/"
        },
        "id": "8xGKI-PUPOYl",
        "outputId": "07e57d21-f409-4899-f479-f7fc14cf7b5c"
      },
      "execution_count": 6,
      "outputs": [
        {
          "output_type": "stream",
          "name": "stdout",
          "text": [
            "myfile\n",
            "sampledir\n"
          ]
        }
      ]
    },
    {
      "cell_type": "code",
      "source": [
        "# 특정 경로에 파일 가져오기\n",
        "\n",
        "# 경로에서, 하위경로 미선택, 불러올 파일, 갖고온 새이름\n",
        "file_service.get_file_to_path('myshare',None,'myfile','out중꺾마.jpg')"
      ],
      "metadata": {
        "colab": {
          "base_uri": "https://localhost:8080/"
        },
        "id": "FiWvljSGPWzz",
        "outputId": "d1a26a7c-5ba2-4faa-8ca4-00bddf038125"
      },
      "execution_count": 8,
      "outputs": [
        {
          "output_type": "stream",
          "name": "stderr",
          "text": [
            "ERROR:azure.storage.common.storageclient:Client-Request-ID=41291b32-5e78-11ed-9de5-0242ac1c0002 Retry policy did not allow for a retry: Server-Timestamp=Mon, 07 Nov 2022 08:43:29 GMT, Server-Request-ID=ea6259a9-101a-0038-4285-f2b2fc000000, HTTP status code=416, Exception=The range specified is invalid for the current size of the resource. ErrorCode: InvalidRange<?xml version=\"1.0\" encoding=\"utf-8\"?><Error><Code>InvalidRange</Code><Message>The range specified is invalid for the current size of the resource.RequestId:ea6259a9-101a-0038-4285-f2b2fc000000Time:2022-11-07T08:43:30.1547246Z</Message></Error>.\n"
          ]
        },
        {
          "output_type": "execute_result",
          "data": {
            "text/plain": [
              "<azure.storage.file.models.File at 0x7f387d7aebd0>"
            ]
          },
          "metadata": {},
          "execution_count": 8
        }
      ]
    }
  ]
}