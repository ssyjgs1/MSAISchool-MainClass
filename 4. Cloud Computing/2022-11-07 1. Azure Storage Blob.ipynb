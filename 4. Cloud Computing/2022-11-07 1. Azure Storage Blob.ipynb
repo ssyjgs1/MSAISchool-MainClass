{
  "cells": [
    {
      "cell_type": "code",
      "execution_count": 1,
      "metadata": {
        "colab": {
          "base_uri": "https://localhost:8080/"
        },
        "id": "MbwZs6F8tUgT",
        "outputId": "75593636-3487-434f-9f9f-8da2de227321"
      },
      "outputs": [
        {
          "name": "stdout",
          "output_type": "stream",
          "text": [
            "Looking in indexes: https://pypi.org/simple, https://us-python.pkg.dev/colab-wheels/public/simple/\n",
            "Requirement already satisfied: azure-storage-blob in /usr/local/lib/python3.7/dist-packages (12.14.1)\n",
            "Requirement already satisfied: msrest>=0.7.1 in /usr/local/lib/python3.7/dist-packages (from azure-storage-blob) (0.7.1)\n",
            "Requirement already satisfied: azure-core<2.0.0,>=1.24.2 in /usr/local/lib/python3.7/dist-packages (from azure-storage-blob) (1.26.1)\n",
            "Requirement already satisfied: cryptography>=2.1.4 in /usr/local/lib/python3.7/dist-packages (from azure-storage-blob) (38.0.3)\n",
            "Requirement already satisfied: requests>=2.18.4 in /usr/local/lib/python3.7/dist-packages (from azure-core<2.0.0,>=1.24.2->azure-storage-blob) (2.23.0)\n",
            "Requirement already satisfied: typing-extensions>=4.0.1 in /usr/local/lib/python3.7/dist-packages (from azure-core<2.0.0,>=1.24.2->azure-storage-blob) (4.1.1)\n",
            "Requirement already satisfied: six>=1.11.0 in /usr/local/lib/python3.7/dist-packages (from azure-core<2.0.0,>=1.24.2->azure-storage-blob) (1.15.0)\n",
            "Requirement already satisfied: cffi>=1.12 in /usr/local/lib/python3.7/dist-packages (from cryptography>=2.1.4->azure-storage-blob) (1.15.1)\n",
            "Requirement already satisfied: pycparser in /usr/local/lib/python3.7/dist-packages (from cffi>=1.12->cryptography>=2.1.4->azure-storage-blob) (2.21)\n",
            "Requirement already satisfied: requests-oauthlib>=0.5.0 in /usr/local/lib/python3.7/dist-packages (from msrest>=0.7.1->azure-storage-blob) (1.3.1)\n",
            "Requirement already satisfied: isodate>=0.6.0 in /usr/local/lib/python3.7/dist-packages (from msrest>=0.7.1->azure-storage-blob) (0.6.1)\n",
            "Requirement already satisfied: certifi>=2017.4.17 in /usr/local/lib/python3.7/dist-packages (from msrest>=0.7.1->azure-storage-blob) (2022.9.24)\n",
            "Requirement already satisfied: chardet<4,>=3.0.2 in /usr/local/lib/python3.7/dist-packages (from requests>=2.18.4->azure-core<2.0.0,>=1.24.2->azure-storage-blob) (3.0.4)\n",
            "Requirement already satisfied: idna<3,>=2.5 in /usr/local/lib/python3.7/dist-packages (from requests>=2.18.4->azure-core<2.0.0,>=1.24.2->azure-storage-blob) (2.10)\n",
            "Requirement already satisfied: urllib3!=1.25.0,!=1.25.1,<1.26,>=1.21.1 in /usr/local/lib/python3.7/dist-packages (from requests>=2.18.4->azure-core<2.0.0,>=1.24.2->azure-storage-blob) (1.24.3)\n",
            "Requirement already satisfied: oauthlib>=3.0.0 in /usr/local/lib/python3.7/dist-packages (from requests-oauthlib>=0.5.0->msrest>=0.7.1->azure-storage-blob) (3.2.2)\n"
          ]
        }
      ],
      "source": [
        "#  관련 패키지 설치\n",
        "!pip install azure-storage-blob"
      ]
    },
    {
      "cell_type": "code",
      "execution_count": 3,
      "metadata": {
        "id": "2CB2Nfl8t57b"
      },
      "outputs": [],
      "source": [
        "# 필요한 패키지 불러오기\n",
        "import os, uuid # uuid는 임시변수를 위한 기능\n",
        "from azure.storage.blob import BlobServiceClient, BlobClient, ContainerClient"
      ]
    },
    {
      "cell_type": "code",
      "execution_count": 4,
      "metadata": {
        "id": "aZOoOiCPuOtL"
      },
      "outputs": [],
      "source": [
        "# Blob 서비스에 연결하기\n",
        "\n",
        "# Azure Storage Account access key 중 연결 문자열에 해당\n",
        "connect_string = 'ㅁㅁㅁㅁ'\n",
        "\n",
        "blob_service_client = BlobServiceClient.from_connection_string(connect_string)"
      ]
    },
    {
      "cell_type": "code",
      "execution_count": 6,
      "metadata": {
        "colab": {
          "base_uri": "https://localhost:8080/"
        },
        "id": "QTcIsSZsv076",
        "outputId": "777e7b8a-7c5a-4e40-b2e2-969b2515be9a"
      },
      "outputs": [
        {
          "name": "stdout",
          "output_type": "stream",
          "text": [
            "3591bb1e-da34-4101-946b-88c4b7feaf20\n"
          ]
        }
      ],
      "source": [
        "# Container 생성\n",
        "container_name = str(uuid.uuid4()) # 난수같은 겹치지 않는 이름 생성해줌\n",
        "print(container_name)\n",
        "\n",
        "container_client = blob_service_client.create_container(container_name)"
      ]
    },
    {
      "cell_type": "code",
      "execution_count": 7,
      "metadata": {
        "id": "xdc5xoMYwO8h"
      },
      "outputs": [],
      "source": [
        "# 데이터 업로드 하기\n",
        "local_path = './data'\n",
        "os.mkdir(local_path) # 업로드된 데이터가 저장되어있을 공간\n",
        "\n",
        "local_file_name = str(uuid.uuid4()) + '.txt'\n",
        "upload_file_path = os.path.join(local_path,local_file_name)"
      ]
    },
    {
      "cell_type": "code",
      "execution_count": 9,
      "metadata": {
        "id": "m5d5CJzFx3xp"
      },
      "outputs": [],
      "source": [
        "# 업로드 할 파일 준비\n",
        "file = open(file=upload_file_path, mode='w') # 쓰기 모드로 파일을 열겠어요\n",
        "file.write('Hello, Azure Storage!')\n",
        "file.close()\n",
        "\n",
        "blob_client = blob_service_client.get_blob_client(container=container_name,\n",
        "                                                  blob=local_file_name)\n",
        "\n",
        "with open(file=upload_file_path, mode='rb') as data: # 파일을 binary단으로 읽어들이겠다\n",
        "       blob_client.upload_blob(data)"
      ]
    },
    {
      "cell_type": "code",
      "execution_count": 10,
      "metadata": {
        "colab": {
          "base_uri": "https://localhost:8080/"
        },
        "id": "h9MHwGtszfgS",
        "outputId": "bce9d96f-d401-437e-b86b-959893865eae"
      },
      "outputs": [
        {
          "name": "stdout",
          "output_type": "stream",
          "text": [
            "\t889bf66b-82ca-4a5d-83e7-17e964820c3a.txt\n"
          ]
        }
      ],
      "source": [
        "# Blob 안의 파일 목록 확인\n",
        "blob_list = container_client.list_blobs()\n",
        "for blob in blob_list:\n",
        "    print('\\t' + blob.name)"
      ]
    },
    {
      "cell_type": "code",
      "execution_count": 13,
      "metadata": {
        "id": "-hCMhqSS1O1g"
      },
      "outputs": [],
      "source": [
        "# 업로드 된 파일의 다운로드\n",
        "download_file_path = os.path.join(local_path,\n",
        "                                  str.replace(local_file_name, '.txt','DOWNLOAD.txt'))\n",
        "container_client = blob_service_client.get_container_client(container=container_name)\n",
        "\n",
        "with open(file=download_file_path, mode='wb') as download_file:\n",
        "    download_file.write(container_client.download_blob(blob.name).readall())"
      ]
    },
    {
      "cell_type": "code",
      "execution_count": 14,
      "metadata": {
        "colab": {
          "base_uri": "https://localhost:8080/"
        },
        "id": "VktnvAmU2xI4",
        "outputId": "e6d474bf-9954-471b-85f9-c4a8d84e6be7"
      },
      "outputs": [
        {
          "name": "stdout",
          "output_type": "stream",
          "text": [
            "Press the Enter key to begin clean up\n",
            "\n",
            "Deleting blob container...\n",
            "Deleting the local source and downloaded files...\n",
            "終わり\n"
          ]
        }
      ],
      "source": [
        "# 실습한 자원의 정리\n",
        "print('Press the Enter key to begin clean up')\n",
        "input()\n",
        "\n",
        "print('Deleting blob container...')\n",
        "container_client.delete_container\n",
        "\n",
        "print('Deleting the local source and downloaded files...')\n",
        "os.remove(upload_file_path)\n",
        "os.remove(download_file_path)\n",
        "os.rmdir(local_path)\n",
        "\n",
        "print('終わり')"
      ]
    }
  ],
  "metadata": {
    "colab": {
      "provenance": []
    },
    "kernelspec": {
      "display_name": "Python 3",
      "name": "python3"
    },
    "language_info": {
      "name": "python"
    }
  },
  "nbformat": 4,
  "nbformat_minor": 0
}
