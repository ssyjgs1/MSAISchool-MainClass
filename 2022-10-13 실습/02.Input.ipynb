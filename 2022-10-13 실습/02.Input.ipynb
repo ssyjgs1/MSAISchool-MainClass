{
 "cells": [
  {
   "cell_type": "code",
   "execution_count": 1,
   "id": "fd8119fb",
   "metadata": {},
   "outputs": [
    {
     "name": "stdout",
     "output_type": "stream",
     "text": [
      "hello python\n"
     ]
    },
    {
     "data": {
      "text/plain": [
       "'hello python'"
      ]
     },
     "execution_count": 1,
     "metadata": {},
     "output_type": "execute_result"
    }
   ],
   "source": [
    "input()"
   ]
  },
  {
   "cell_type": "code",
   "execution_count": 2,
   "id": "4d7799da",
   "metadata": {},
   "outputs": [
    {
     "name": "stdout",
     "output_type": "stream",
     "text": [
      "좋아하는 가수는?알렉산드로스\n"
     ]
    },
    {
     "data": {
      "text/plain": [
       "'알렉산드로스'"
      ]
     },
     "execution_count": 2,
     "metadata": {},
     "output_type": "execute_result"
    }
   ],
   "source": [
    "input('좋아하는 가수는?')"
   ]
  },
  {
   "cell_type": "code",
   "execution_count": 3,
   "id": "7065d795",
   "metadata": {},
   "outputs": [
    {
     "name": "stdout",
     "output_type": "stream",
     "text": [
      "좋아하는 가수는?알렉산드로스\n",
      "멤버의 인원수는?4\n",
      "알렉산드로스는 모두 4명 입니다.\n"
     ]
    }
   ],
   "source": [
    "a = input('좋아하는 가수는?')\n",
    "b = input('멤버의 인원수는?')\n",
    "\n",
    "print('{}는 모두 {}명 입니다.'.format(a,b))"
   ]
  },
  {
   "cell_type": "code",
   "execution_count": null,
   "id": "5385bdbd",
   "metadata": {},
   "outputs": [],
   "source": []
  }
 ],
 "metadata": {
  "kernelspec": {
   "display_name": "Python 3 (ipykernel)",
   "language": "python",
   "name": "python3"
  },
  "language_info": {
   "codemirror_mode": {
    "name": "ipython",
    "version": 3
   },
   "file_extension": ".py",
   "mimetype": "text/x-python",
   "name": "python",
   "nbconvert_exporter": "python",
   "pygments_lexer": "ipython3",
   "version": "3.9.12"
  }
 },
 "nbformat": 4,
 "nbformat_minor": 5
}
