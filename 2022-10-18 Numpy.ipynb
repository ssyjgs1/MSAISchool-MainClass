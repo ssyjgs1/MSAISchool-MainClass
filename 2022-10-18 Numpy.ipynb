{
  "cells": [
    {
      "cell_type": "code",
      "execution_count": null,
      "metadata": {
        "colab": {
          "base_uri": "https://localhost:8080/"
        },
        "id": "sYC_Wz7lwqsU",
        "outputId": "d98e26ba-1d24-4294-81be-012907f067c2"
      },
      "outputs": [
        {
          "name": "stdout",
          "output_type": "stream",
          "text": [
            "<class 'numpy.ndarray'>\n"
          ]
        }
      ],
      "source": [
        "import numpy as np\n",
        "\n",
        "arr = np.array([1,2,3,4])\n",
        "print(type(arr))"
      ]
    },
    {
      "cell_type": "code",
      "execution_count": null,
      "metadata": {
        "colab": {
          "base_uri": "https://localhost:8080/"
        },
        "id": "XVbZVOuQ7WQy",
        "outputId": "1d6b02d9-d89e-42c9-9b63-aa5657b31c3a"
      },
      "outputs": [
        {
          "name": "stdout",
          "output_type": "stream",
          "text": [
            "[[0. 0. 0.]\n",
            " [0. 0. 0.]\n",
            " [0. 0. 0.]]\n"
          ]
        }
      ],
      "source": [
        "# 0으로 초기화된 배열\n",
        "arr=np.zeros((3,3))\n",
        "print(arr)"
      ]
    },
    {
      "cell_type": "code",
      "execution_count": null,
      "metadata": {
        "colab": {
          "base_uri": "https://localhost:8080/"
        },
        "id": "0I-szcUK8kDB",
        "outputId": "53dcceba-5c99-4680-d7c7-ade579260a4f"
      },
      "outputs": [
        {
          "name": "stdout",
          "output_type": "stream",
          "text": [
            "[[1.70459446e-316 0.00000000e+000 0.00000000e+000 0.00000000e+000]\n",
            " [0.00000000e+000 0.00000000e+000 0.00000000e+000 0.00000000e+000]\n",
            " [0.00000000e+000 0.00000000e+000 0.00000000e+000 0.00000000e+000]\n",
            " [0.00000000e+000 0.00000000e+000 0.00000000e+000 0.00000000e+000]]\n"
          ]
        }
      ],
      "source": [
        "# 빈 값으로 만들어진 배열\n",
        "arr = np.empty((4,4))\n",
        "print(arr)"
      ]
    },
    {
      "cell_type": "code",
      "execution_count": null,
      "metadata": {
        "colab": {
          "base_uri": "https://localhost:8080/"
        },
        "id": "sJy8tGk89dfI",
        "outputId": "9b67b531-8f31-4b5b-e704-91fcc09f6a06"
      },
      "outputs": [
        {
          "name": "stdout",
          "output_type": "stream",
          "text": [
            "[[1. 1. 1.]\n",
            " [1. 1. 1.]\n",
            " [1. 1. 1.]]\n"
          ]
        }
      ],
      "source": [
        "# 1로 가득찬 배열 만들기\n",
        "arr = np.ones((3,3))\n",
        "print(arr)"
      ]
    },
    {
      "cell_type": "code",
      "execution_count": null,
      "metadata": {
        "colab": {
          "base_uri": "https://localhost:8080/"
        },
        "id": "CO8VLpO3-CQX",
        "outputId": "3c968eca-002c-4542-9b86-bbde03638ef5"
      },
      "outputs": [
        {
          "name": "stdout",
          "output_type": "stream",
          "text": [
            "[0 1 2 3 4 5 6 7 8 9]\n"
          ]
        }
      ],
      "source": [
        "# 배열의 생성\n",
        "arr = np.arange(10) # 10개짜리 배열 만들어줘\n",
        "print(arr)"
      ]
    },
    {
      "cell_type": "code",
      "execution_count": null,
      "metadata": {
        "colab": {
          "base_uri": "https://localhost:8080/"
        },
        "id": "_8vZLI1S_QEh",
        "outputId": "9f3a0746-c63e-4c49-b5ae-84456682fd5b"
      },
      "outputs": [
        {
          "name": "stdout",
          "output_type": "stream",
          "text": [
            "[[1 2 3]\n",
            " [4 5 6]]\n"
          ]
        }
      ],
      "source": [
        "# ndarray 배열의 모양, 차원수, 데이터 타입 확인하기\n",
        "arr = np.array([[1,2,3],[4,5,6]])\n",
        "print(arr)"
      ]
    },
    {
      "cell_type": "code",
      "execution_count": null,
      "metadata": {
        "colab": {
          "base_uri": "https://localhost:8080/"
        },
        "id": "Cszik0BP_n9l",
        "outputId": "8f9c33fe-7340-4679-d9f2-e67f7e408b79"
      },
      "outputs": [
        {
          "data": {
            "text/plain": [
              "(2, 3)"
            ]
          },
          "execution_count": 31,
          "metadata": {},
          "output_type": "execute_result"
        }
      ],
      "source": [
        "arr.shape # 배열 모양 확인"
      ]
    },
    {
      "cell_type": "code",
      "execution_count": null,
      "metadata": {
        "colab": {
          "base_uri": "https://localhost:8080/"
        },
        "id": "dGtO7aHh_vgU",
        "outputId": "fe2ee0f1-777a-4715-be9a-2d46924f6b35"
      },
      "outputs": [
        {
          "data": {
            "text/plain": [
              "2"
            ]
          },
          "execution_count": 32,
          "metadata": {},
          "output_type": "execute_result"
        }
      ],
      "source": [
        "arr.ndim # 차원수 확인"
      ]
    },
    {
      "cell_type": "code",
      "execution_count": null,
      "metadata": {
        "colab": {
          "base_uri": "https://localhost:8080/"
        },
        "id": "A-RI1BkBAGCj",
        "outputId": "dca52268-33c3-4e17-8058-9468979d84ec"
      },
      "outputs": [
        {
          "data": {
            "text/plain": [
              "dtype('int64')"
            ]
          },
          "execution_count": 33,
          "metadata": {},
          "output_type": "execute_result"
        }
      ],
      "source": [
        "arr.dtype # 데이터 타입 확인"
      ]
    },
    {
      "cell_type": "code",
      "execution_count": null,
      "metadata": {
        "colab": {
          "base_uri": "https://localhost:8080/"
        },
        "id": "Zk2Bg9cIAMJT",
        "outputId": "2dd4cfb1-cbbf-4f06-fe69-e761190c7d10"
      },
      "outputs": [
        {
          "data": {
            "text/plain": [
              "dtype('float64')"
            ]
          },
          "execution_count": 34,
          "metadata": {},
          "output_type": "execute_result"
        }
      ],
      "source": [
        "arr_float = arr.astype(np.float64)\n",
        "arr_float.dtype"
      ]
    },
    {
      "cell_type": "code",
      "execution_count": null,
      "metadata": {
        "colab": {
          "base_uri": "https://localhost:8080/"
        },
        "id": "osv5kGLxAt7L",
        "outputId": "29c5d80d-e89b-4895-e783-41b3d1ad9d1e"
      },
      "outputs": [
        {
          "data": {
            "text/plain": [
              "dtype('<U1')"
            ]
          },
          "execution_count": 35,
          "metadata": {},
          "output_type": "execute_result"
        }
      ],
      "source": [
        "arr_str = np.array(['1','2','3'])\n",
        "arr_str.dtype"
      ]
    },
    {
      "cell_type": "code",
      "execution_count": null,
      "metadata": {
        "colab": {
          "base_uri": "https://localhost:8080/"
        },
        "id": "Krry451iA-sL",
        "outputId": "ff8c326f-9026-450b-ad17-adb4942e68d9"
      },
      "outputs": [
        {
          "data": {
            "text/plain": [
              "dtype('int64')"
            ]
          },
          "execution_count": 36,
          "metadata": {},
          "output_type": "execute_result"
        }
      ],
      "source": [
        "arr_int = arr_str.astype(np.int64)\n",
        "arr_int.dtype"
      ]
    },
    {
      "cell_type": "code",
      "execution_count": null,
      "metadata": {
        "id": "Z7vONykRBKuS"
      },
      "outputs": [],
      "source": [
        "# ndarray 배열의 연산\n",
        "arr1 = np.array([[1,2],[3,4]])\n",
        "arr2 = np.array([[5,6],[7,8]])"
      ]
    },
    {
      "cell_type": "code",
      "execution_count": null,
      "metadata": {
        "colab": {
          "base_uri": "https://localhost:8080/"
        },
        "id": "0md35Yf1BtMh",
        "outputId": "a8e6c2ae-2f72-4af1-c689-50723f4f9c14"
      },
      "outputs": [
        {
          "data": {
            "text/plain": [
              "array([[ 6,  8],\n",
              "       [10, 12]])"
            ]
          },
          "execution_count": 38,
          "metadata": {},
          "output_type": "execute_result"
        }
      ],
      "source": [
        "arr1 + arr2"
      ]
    },
    {
      "cell_type": "code",
      "execution_count": null,
      "metadata": {
        "colab": {
          "base_uri": "https://localhost:8080/"
        },
        "id": "m6tGpj_TCXUA",
        "outputId": "ad42c1bb-b12b-480a-a2bc-b747a4c54ab1"
      },
      "outputs": [
        {
          "data": {
            "text/plain": [
              "array([[ 6,  8],\n",
              "       [10, 12]])"
            ]
          },
          "execution_count": 39,
          "metadata": {},
          "output_type": "execute_result"
        }
      ],
      "source": [
        "np.add(arr1,arr2)"
      ]
    },
    {
      "cell_type": "code",
      "execution_count": null,
      "metadata": {
        "colab": {
          "base_uri": "https://localhost:8080/"
        },
        "id": "av-i8AcuCjm4",
        "outputId": "7687dead-2185-4734-c3cc-6e41855f3250"
      },
      "outputs": [
        {
          "data": {
            "text/plain": [
              "array([[ 5, 12],\n",
              "       [21, 32]])"
            ]
          },
          "execution_count": 40,
          "metadata": {},
          "output_type": "execute_result"
        }
      ],
      "source": [
        "arr1 * arr2"
      ]
    },
    {
      "cell_type": "code",
      "execution_count": null,
      "metadata": {
        "colab": {
          "base_uri": "https://localhost:8080/"
        },
        "id": "YYBe9uW8CrNQ",
        "outputId": "0ed632e7-9405-4df4-b9fc-021613d5237a"
      },
      "outputs": [
        {
          "data": {
            "text/plain": [
              "array([[ 5, 12],\n",
              "       [21, 32]])"
            ]
          },
          "execution_count": 41,
          "metadata": {},
          "output_type": "execute_result"
        }
      ],
      "source": [
        "np.multiply(arr1,arr2)"
      ]
    },
    {
      "cell_type": "code",
      "execution_count": null,
      "metadata": {
        "id": "XehcQZHwC3kv"
      },
      "outputs": [],
      "source": [
        "# ndarray 배열 슬라이싱 하기\n",
        "arr = np.array([[1,2,3],[4,5,6],[7,8,9]])"
      ]
    },
    {
      "cell_type": "code",
      "execution_count": null,
      "metadata": {
        "colab": {
          "base_uri": "https://localhost:8080/"
        },
        "id": "Ir0oYqT_D1nr",
        "outputId": "334ef5f7-f74c-487c-e5f2-c6be82b6d632"
      },
      "outputs": [
        {
          "name": "stdout",
          "output_type": "stream",
          "text": [
            "[[2 3]\n",
            " [5 6]]\n"
          ]
        }
      ],
      "source": [
        "arr_1 = arr[:2,1:3]\n",
        "print(arr_1)\n",
        "\n",
        "# :2는 0,1만 갖고 올 것임. 2는 탈락\n",
        "# 1:3은 1부터 시작해서 3까지(0과 3이 날라감)"
      ]
    },
    {
      "cell_type": "code",
      "execution_count": null,
      "metadata": {
        "colab": {
          "base_uri": "https://localhost:8080/"
        },
        "id": "I_HBuC_LD78V",
        "outputId": "1cb650a2-9de0-40dd-fc72-636d00924e69"
      },
      "outputs": [
        {
          "data": {
            "text/plain": [
              "3"
            ]
          },
          "execution_count": 44,
          "metadata": {},
          "output_type": "execute_result"
        }
      ],
      "source": [
        "arr[0,2]"
      ]
    },
    {
      "cell_type": "code",
      "execution_count": null,
      "metadata": {
        "colab": {
          "base_uri": "https://localhost:8080/"
        },
        "id": "T3hps_TeIeie",
        "outputId": "958ee290-b9bf-4910-a118-0b663133a5e4"
      },
      "outputs": [
        {
          "data": {
            "text/plain": [
              "array([3, 4, 8])"
            ]
          },
          "execution_count": 45,
          "metadata": {},
          "output_type": "execute_result"
        }
      ],
      "source": [
        "arr[[0,1,2],[2,0,1]]"
      ]
    },
    {
      "cell_type": "code",
      "execution_count": null,
      "metadata": {
        "colab": {
          "base_uri": "https://localhost:8080/"
        },
        "id": "y85cRQqwI_BW",
        "outputId": "dca85a97-e57a-4355-cbff-a6f85e032a2a"
      },
      "outputs": [
        {
          "name": "stdout",
          "output_type": "stream",
          "text": [
            "[[False False False]\n",
            " [ True  True  True]\n",
            " [ True  True  True]]\n"
          ]
        }
      ],
      "source": [
        "idx = arr > 3\n",
        "print(idx)"
      ]
    },
    {
      "cell_type": "code",
      "execution_count": null,
      "metadata": {
        "colab": {
          "base_uri": "https://localhost:8080/"
        },
        "id": "rlHaK9VPJWjN",
        "outputId": "52c78194-ee95-498e-eaa6-dcb6b4898b7f"
      },
      "outputs": [
        {
          "name": "stdout",
          "output_type": "stream",
          "text": [
            "[4 5 6 7 8 9]\n"
          ]
        }
      ],
      "source": [
        "print(arr[idx]) # arr안에 idx값 True인 것만 출력됨"
      ]
    },
    {
      "cell_type": "code",
      "execution_count": null,
      "metadata": {
        "colab": {
          "base_uri": "https://localhost:8080/"
        },
        "id": "mBnHeek-J488",
        "outputId": "d5f7e33b-8ff2-48e3-a8cd-86d7a1c73e8c"
      },
      "outputs": [
        {
          "name": "stdout",
          "output_type": "stream",
          "text": [
            "[[ 7.4    0.7    0.    ...  0.56   9.4    5.   ]\n",
            " [ 7.8    0.88   0.    ...  0.68   9.8    5.   ]\n",
            " [ 7.8    0.76   0.04  ...  0.65   9.8    5.   ]\n",
            " ...\n",
            " [ 6.3    0.51   0.13  ...  0.75  11.     6.   ]\n",
            " [ 5.9    0.645  0.12  ...  0.71  10.2    5.   ]\n",
            " [ 6.     0.31   0.47  ...  0.66  11.     6.   ]]\n"
          ]
        }
      ],
      "source": [
        "redwine = np.loadtxt(fname='winequality-red.csv',delimiter=';',skiprows=1) # delimiter는 csv 파일 내 데이터 구별자 / 첫 줄은 데이터 아니니까 생략\n",
        "print(redwine)"
      ]
    },
    {
      "cell_type": "code",
      "execution_count": null,
      "metadata": {
        "colab": {
          "base_uri": "https://localhost:8080/"
        },
        "id": "Tdy_XYs-NcQi",
        "outputId": "0c7398c1-a7e9-4841-8a65-bbc32461b2bf"
      },
      "outputs": [
        {
          "name": "stdout",
          "output_type": "stream",
          "text": [
            "152084.78194\n"
          ]
        }
      ],
      "source": [
        "# 합계\n",
        "print(redwine.sum())"
      ]
    },
    {
      "cell_type": "code",
      "execution_count": null,
      "metadata": {
        "colab": {
          "base_uri": "https://localhost:8080/"
        },
        "id": "MgbGMh8GN-D2",
        "outputId": "eb0e17a8-5f76-4666-875c-25b00ff421a9"
      },
      "outputs": [
        {
          "name": "stdout",
          "output_type": "stream",
          "text": [
            "7.926036165311652\n"
          ]
        }
      ],
      "source": [
        "# 평균\n",
        "print(redwine.mean())"
      ]
    },
    {
      "cell_type": "code",
      "execution_count": null,
      "metadata": {
        "colab": {
          "base_uri": "https://localhost:8080/"
        },
        "id": "YVVfszOZOOkF",
        "outputId": "6ad98be8-e390-471e-b31e-f9d724806035"
      },
      "outputs": [
        {
          "name": "stdout",
          "output_type": "stream",
          "text": [
            "[13303.1       843.985     433.29     4059.55      139.859   25384.\n",
            " 74302.       1593.79794  5294.47     1052.38    16666.35     9012.     ]\n",
            "[ 8.31963727  0.52782051  0.27097561  2.5388055   0.08746654 15.87492183\n",
            " 46.46779237  0.99674668  3.3111132   0.65814884 10.42298311  5.63602251]\n"
          ]
        }
      ],
      "source": [
        "# 축(axis)\n",
        "print(redwine.sum(axis=0))\n",
        "print(redwine.mean(axis=0))"
      ]
    },
    {
      "cell_type": "code",
      "execution_count": null,
      "metadata": {
        "colab": {
          "base_uri": "https://localhost:8080/"
        },
        "id": "E6xFkGd1PTZE",
        "outputId": "b3dfc62a-5f3f-4371-81fb-17d00c2c2b2a"
      },
      "outputs": [
        {
          "data": {
            "text/plain": [
              "array([7.4, 7.8, 7.8, ..., 6.3, 5.9, 6. ])"
            ]
          },
          "execution_count": 52,
          "metadata": {},
          "output_type": "execute_result"
        }
      ],
      "source": [
        "redwine[:,0]#.mean()    # 앞 뒤가 비어있는 [:]은 전체 데이터를 의미함. 두 번재로 찍힌 ,0은 전체 데이터 중 제일 첫 번째 column을 의미함."
      ]
    },
    {
      "cell_type": "code",
      "execution_count": null,
      "metadata": {
        "colab": {
          "base_uri": "https://localhost:8080/"
        },
        "id": "nJYLj-6WQGgz",
        "outputId": "92d365d9-b96b-484d-d93e-63e4148e8c24"
      },
      "outputs": [
        {
          "data": {
            "text/plain": [
              "array([ 15.9    ,   1.58   ,   1.     ,  15.5    ,   0.611  ,  72.     ,\n",
              "       289.     ,   1.00369,   4.01   ,   2.     ,  14.9    ,   8.     ])"
            ]
          },
          "execution_count": 53,
          "metadata": {},
          "output_type": "execute_result"
        }
      ],
      "source": [
        "redwine.max(axis=0) # 축을 기준으로 각각 가장 큰 수"
      ]
    },
    {
      "cell_type": "code",
      "execution_count": null,
      "metadata": {
        "colab": {
          "base_uri": "https://localhost:8080/"
        },
        "id": "FcRHGNX8Q4vh",
        "outputId": "843a7ce4-9c56-480d-824a-2c46c03cd081"
      },
      "outputs": [
        {
          "data": {
            "text/plain": [
              "array([4.6    , 0.12   , 0.     , 0.9    , 0.012  , 1.     , 6.     ,\n",
              "       0.99007, 2.74   , 0.33   , 8.4    , 3.     ])"
            ]
          },
          "execution_count": 54,
          "metadata": {},
          "output_type": "execute_result"
        }
      ],
      "source": [
        "redwine.min(axis=0) # 축을 기준으로 각각 가장 작은 수"
      ]
    }
  ],
  "metadata": {
    "colab": {
      "provenance": []
    },
    "kernelspec": {
      "display_name": "Python 3",
      "name": "python3"
    },
    "language_info": {
      "name": "python"
    }
  },
  "nbformat": 4,
  "nbformat_minor": 0
}
