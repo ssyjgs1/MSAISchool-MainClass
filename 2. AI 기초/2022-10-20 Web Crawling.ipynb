{
  "cells": [
    {
      "cell_type": "code",
      "execution_count": null,
      "metadata": {
        "colab": {
          "base_uri": "https://localhost:8080/"
        },
        "id": "kGkGil5ssuvy",
        "outputId": "f7385d49-e70d-4542-fc56-f53db54cfa83"
      },
      "outputs": [
        {
          "name": "stdout",
          "output_type": "stream",
          "text": [
            "Looking in indexes: https://pypi.org/simple, https://us-python.pkg.dev/colab-wheels/public/simple/\n",
            "Requirement already satisfied: bs4 in /usr/local/lib/python3.7/dist-packages (0.0.1)\n",
            "Requirement already satisfied: beautifulsoup4 in /usr/local/lib/python3.7/dist-packages (from bs4) (4.6.3)\n"
          ]
        }
      ],
      "source": [
        "pip install bs4"
      ]
    },
    {
      "cell_type": "code",
      "execution_count": null,
      "metadata": {
        "id": "4UYq-azqkVOM"
      },
      "outputs": [],
      "source": [
        "import bs4 \n",
        "import requests # 통신을 위해 불러옴"
      ]
    },
    {
      "cell_type": "code",
      "execution_count": null,
      "metadata": {
        "colab": {
          "base_uri": "https://localhost:8080/"
        },
        "id": "HcQBRxnAkyJa",
        "outputId": "cd7e2b29-7b42-4e55-9348-35137e0e82e2"
      },
      "outputs": [],
      "source": [
        "url = 'https://search.shopping.naver.com/search/category/100005307' # 긁어올 웹 주소\n",
        "result = requests.get(url).text\n",
        "print(result)\n",
        "# 긁어온 웹 주소의 HTML 요소가 너무 길어서 출력 셀 부분은 삭제하였습니다."
      ]
    },
    {
      "cell_type": "code",
      "execution_count": null,
      "metadata": {
        "id": "7iNhUswtlZJT"
      },
      "outputs": [],
      "source": [
        "bsObj = bs4.BeautifulSoup(result,'html.parser')"
      ]
    },
    {
      "cell_type": "code",
      "execution_count": null,
      "metadata": {
        "id": "cMeGvEH0mErp"
      },
      "outputs": [],
      "source": [
        "# bsObj.find('a',{'class':'basicList_link__JLQJf'}) # 해당 태그 전체 갖고옴\n",
        "items = bsObj.find_all('a',{'class':'basicList_link__JLQJf'}) # 해당되는 모든 거 갖고옴"
      ]
    },
    {
      "cell_type": "code",
      "execution_count": null,
      "metadata": {
        "colab": {
          "base_uri": "https://localhost:8080/"
        },
        "id": "eF4kBMyCnPt4",
        "outputId": "3bfd9fdb-b114-4443-b490-3f77b6cbd4ee"
      },
      "outputs": [
        {
          "name": "stdout",
          "output_type": "stream",
          "text": [
            "삼성전자 노트북 플러스2 NT550XDA-K14A\n",
            "LG전자 LG그램 16ZD90Q-SX76K\n",
            "삼성전자 갤럭시북 프로360 NT950QDY-A51A\n",
            "삼성전자 노트북 플러스2 NT550XDA-K14A\n"
          ]
        }
      ],
      "source": [
        "print(items[0].text)\n",
        "print(items[1].text)\n",
        "print(items[2].text)\n",
        "print(items[3].text)"
      ]
    },
    {
      "cell_type": "code",
      "execution_count": null,
      "metadata": {
        "colab": {
          "base_uri": "https://localhost:8080/"
        },
        "id": "SCCV14M-px2P",
        "outputId": "f6154197-3110-484f-bef8-448fe3d6fc10"
      },
      "outputs": [
        {
          "name": "stdout",
          "output_type": "stream",
          "text": [
            "삼성전자 노트북 플러스2 NT550XDA-K14A\n",
            "LG전자 LG그램 16ZD90Q-SX76K\n",
            "삼성전자 갤럭시북 프로360 NT950QDY-A51A\n",
            "삼성전자 노트북 플러스2 NT550XDA-K14A\n"
          ]
        }
      ],
      "source": [
        "for i in range(4):\n",
        "    print(items[i].text)"
      ]
    },
    {
      "cell_type": "code",
      "execution_count": null,
      "metadata": {
        "colab": {
          "base_uri": "https://localhost:8080/"
        },
        "id": "0RUIUr4-p12D",
        "outputId": "41a34ea6-335a-49ef-f294-295494226ddd"
      },
      "outputs": [
        {
          "name": "stdout",
          "output_type": "stream",
          "text": [
            "삼성전자 노트북 플러스2 NT550XDA-K14A\n",
            "LG전자 LG그램 16ZD90Q-SX76K\n",
            "삼성전자 갤럭시북 프로360 NT950QDY-A51A\n",
            "삼성전자 노트북 플러스2 NT550XDA-K14A\n"
          ]
        }
      ],
      "source": [
        "lists = items[:4]\n",
        "for l in lists:\n",
        "    print(l.text)"
      ]
    }
  ],
  "metadata": {
    "colab": {
      "collapsed_sections": [],
      "provenance": []
    },
    "kernelspec": {
      "display_name": "Python 3.9.12 ('base')",
      "language": "python",
      "name": "python3"
    },
    "language_info": {
      "name": "python",
      "version": "3.9.12"
    },
    "vscode": {
      "interpreter": {
        "hash": "ad2bdc8ecc057115af97d19610ffacc2b4e99fae6737bb82f5d7fb13d2f2c186"
      }
    }
  },
  "nbformat": 4,
  "nbformat_minor": 0
}
