{
  "nbformat": 4,
  "nbformat_minor": 0,
  "metadata": {
    "colab": {
      "provenance": []
    },
    "kernelspec": {
      "name": "python3",
      "display_name": "Python 3"
    },
    "language_info": {
      "name": "python"
    }
  },
  "cells": [
    {
      "cell_type": "code",
      "execution_count": null,
      "metadata": {
        "id": "-piGjU2jwcMD"
      },
      "outputs": [],
      "source": [
        "# 필요한 패키지, 데이터 불러오기\n",
        "from keras.datasets import mnist\n",
        "from keras import models\n",
        "from keras import layers"
      ]
    },
    {
      "cell_type": "code",
      "source": [
        "(train_images, train_labels), (test_images, test_labels) = mnist.load_data()"
      ],
      "metadata": {
        "id": "X9__7HcSwwu4"
      },
      "execution_count": null,
      "outputs": []
    },
    {
      "cell_type": "code",
      "source": [
        "train_images.shape"
      ],
      "metadata": {
        "colab": {
          "base_uri": "https://localhost:8080/"
        },
        "id": "BmWwmEEwxPHd",
        "outputId": "e5314502-d88e-4b16-decc-02f0954c78cb"
      },
      "execution_count": null,
      "outputs": [
        {
          "output_type": "execute_result",
          "data": {
            "text/plain": [
              "(60000, 28, 28)"
            ]
          },
          "metadata": {},
          "execution_count": 30
        }
      ]
    },
    {
      "cell_type": "code",
      "source": [
        "len(train_labels)"
      ],
      "metadata": {
        "colab": {
          "base_uri": "https://localhost:8080/"
        },
        "id": "cnXpajPoxXqk",
        "outputId": "8f20883f-d936-4fde-e82e-21100f34fa2d"
      },
      "execution_count": null,
      "outputs": [
        {
          "output_type": "execute_result",
          "data": {
            "text/plain": [
              "60000"
            ]
          },
          "metadata": {},
          "execution_count": 31
        }
      ]
    },
    {
      "cell_type": "code",
      "source": [
        "test_images.shape"
      ],
      "metadata": {
        "colab": {
          "base_uri": "https://localhost:8080/"
        },
        "id": "wltCbhN2xhIl",
        "outputId": "cc36698d-7ddd-4479-80e9-0c3edd949fb4"
      },
      "execution_count": null,
      "outputs": [
        {
          "output_type": "execute_result",
          "data": {
            "text/plain": [
              "(10000, 28, 28)"
            ]
          },
          "metadata": {},
          "execution_count": 32
        }
      ]
    },
    {
      "cell_type": "code",
      "source": [
        "len(test_labels)"
      ],
      "metadata": {
        "colab": {
          "base_uri": "https://localhost:8080/"
        },
        "id": "jmj0U7h_xrDM",
        "outputId": "072d14e5-7d7c-48c6-88e7-a1d2989aff4d"
      },
      "execution_count": null,
      "outputs": [
        {
          "output_type": "execute_result",
          "data": {
            "text/plain": [
              "10000"
            ]
          },
          "metadata": {},
          "execution_count": 33
        }
      ]
    },
    {
      "cell_type": "code",
      "source": [
        "# 첫 번재 layer 설정\n",
        "network = models.Sequential() # 신경망을 나타내는 network\n",
        "network.add(layers.Dense(512, activation='relu', input_shape=(28 * 28,))) # network에 dense layer를 추가시켜줌, 입력되는 값의 모양 추가, 2차원 모양이라 input_shape는 뒤에 ,를 찍어야 함\n",
        "network.add(layers.Dense(10,activation='softmax'))"
      ],
      "metadata": {
        "id": "qQm728bZxsYc"
      },
      "execution_count": null,
      "outputs": []
    },
    {
      "cell_type": "code",
      "source": [
        "# network compile --> 확정\n",
        "# compile에는 3가지 옵션을 부여해야 함\n",
        "network.compile(optimizer = 'rmsprop', # 최적화 방법. 가중치와 bias값 알아서 (재+)조정함\n",
        "                loss = 'categorical_crossentropy', # 손실(함수)값(=오차), 다중 분류 문제에서 categorical_crossentropy를 거의 사용함\n",
        "                metrics = ['accuracy']) # 평가지표 : 정확도를 기준으로 하겠음"
      ],
      "metadata": {
        "id": "PxmK5DH-z4pR"
      },
      "execution_count": null,
      "outputs": []
    },
    {
      "cell_type": "code",
      "source": [
        "# data type 변환\n",
        "train_images = train_images.reshape((60000, 28 * 28)) # 바뀐 형태로 저장\n",
        "train_images = train_images.astype('float32') / 255 # 기존 uint8 형태에서 실수 형태로 변환\n",
        "# 수치는 소수로 만들어줘야 tensorflow에서 연산하기 쉬움\n",
        "\n",
        "test_images = test_images.reshape((10000,28*28))\n",
        "test_images = test_images.astype('float32') / 255"
      ],
      "metadata": {
        "id": "T6UcZEvv4hKx"
      },
      "execution_count": null,
      "outputs": []
    },
    {
      "cell_type": "code",
      "source": [
        "# 분류형 데이터의 설정\n",
        "# 계산하는 거 아니고 분류만 하는 거니까 그 이상 연산 하지 마!\n",
        "from tensorflow.keras.utils import to_categorical\n",
        "train_labels = to_categorical(train_labels)\n",
        "test_labels = to_categorical(test_labels)"
      ],
      "metadata": {
        "id": "awJe5AyO5ums"
      },
      "execution_count": null,
      "outputs": []
    },
    {
      "cell_type": "code",
      "source": [
        "# 학습시키기 - fit(학습용 이미지, 학습용 라벨,epoch=반복 횟수, batch_size=한 번에 데이터 얼마나 돌릴지)\n",
        "network.fit(train_images, train_labels, epochs=5, batch_size=128)"
      ],
      "metadata": {
        "colab": {
          "base_uri": "https://localhost:8080/"
        },
        "id": "3dh6GWBL7ptx",
        "outputId": "5f6f1cf8-f346-4fef-bccc-23db6d1a0507"
      },
      "execution_count": null,
      "outputs": [
        {
          "output_type": "stream",
          "name": "stdout",
          "text": [
            "Epoch 1/5\n",
            "469/469 [==============================] - 6s 11ms/step - loss: 0.2550 - accuracy: 0.9265\n",
            "Epoch 2/5\n",
            "469/469 [==============================] - 5s 12ms/step - loss: 0.1029 - accuracy: 0.9694\n",
            "Epoch 3/5\n",
            "469/469 [==============================] - 5s 11ms/step - loss: 0.0686 - accuracy: 0.9796\n",
            "Epoch 4/5\n",
            "469/469 [==============================] - 5s 10ms/step - loss: 0.0500 - accuracy: 0.9845\n",
            "Epoch 5/5\n",
            "469/469 [==============================] - 5s 11ms/step - loss: 0.0372 - accuracy: 0.9887\n"
          ]
        },
        {
          "output_type": "execute_result",
          "data": {
            "text/plain": [
              "<keras.callbacks.History at 0x7f1d6b812cd0>"
            ]
          },
          "metadata": {},
          "execution_count": 38
        }
      ]
    },
    {
      "cell_type": "code",
      "source": [
        "# 평가하기\n",
        "test_loss, test_acc = network.evaluate(test_images,test_labels)"
      ],
      "metadata": {
        "colab": {
          "base_uri": "https://localhost:8080/"
        },
        "id": "ko9J_7ry8tF3",
        "outputId": "4ecd7e6b-d844-402b-a35b-15e83bd79814"
      },
      "execution_count": null,
      "outputs": [
        {
          "output_type": "stream",
          "name": "stdout",
          "text": [
            "313/313 [==============================] - 1s 3ms/step - loss: 0.0671 - accuracy: 0.9812\n"
          ]
        }
      ]
    },
    {
      "cell_type": "code",
      "source": [
        "print('test_acc: ', test_acc)"
      ],
      "metadata": {
        "colab": {
          "base_uri": "https://localhost:8080/"
        },
        "id": "B5dlVgDp97fT",
        "outputId": "a0463949-ff28-43ff-9ffb-0d931ac16145"
      },
      "execution_count": null,
      "outputs": [
        {
          "output_type": "stream",
          "name": "stdout",
          "text": [
            "test_acc:  0.9811999797821045\n"
          ]
        }
      ]
    }
  ]
}