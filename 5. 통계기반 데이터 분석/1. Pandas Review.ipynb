{
 "cells": [
  {
   "cell_type": "code",
   "execution_count": 2,
   "id": "8ca776ee",
   "metadata": {},
   "outputs": [],
   "source": [
    "import pandas as pd"
   ]
  },
  {
   "cell_type": "code",
   "execution_count": 4,
   "id": "8ea50a76",
   "metadata": {},
   "outputs": [
    {
     "data": {
      "text/plain": [
       "서울     1116\n",
       "부산    12259\n",
       "인천    65119\n",
       "대구    16699\n",
       "dtype: int64"
      ]
     },
     "execution_count": 4,
     "metadata": {},
     "output_type": "execute_result"
    }
   ],
   "source": [
    "s = pd.Series([1116,12259, 65119, 16699], index = ['서울','부산','인천','대구'])\n",
    "s"
   ]
  },
  {
   "cell_type": "code",
   "execution_count": 5,
   "id": "99caee68",
   "metadata": {},
   "outputs": [
    {
     "data": {
      "text/plain": [
       "Index(['서울', '부산', '인천', '대구'], dtype='object')"
      ]
     },
     "execution_count": 5,
     "metadata": {},
     "output_type": "execute_result"
    }
   ],
   "source": [
    "s.index"
   ]
  },
  {
   "cell_type": "code",
   "execution_count": 8,
   "id": "f4499181",
   "metadata": {},
   "outputs": [
    {
     "data": {
      "text/plain": [
       "array([ 1116, 12259, 65119, 16699], dtype=int64)"
      ]
     },
     "execution_count": 8,
     "metadata": {},
     "output_type": "execute_result"
    }
   ],
   "source": [
    "# value가 아니고 values로 호출해야함\n",
    "# 다루고 있는 데이터의 type을 잘 알아둬야함\n",
    "s.values"
   ]
  },
  {
   "cell_type": "code",
   "execution_count": 10,
   "id": "1c39300e",
   "metadata": {},
   "outputs": [
    {
     "data": {
      "text/plain": [
       "서울     1116\n",
       "부산    12259\n",
       "인천    65119\n",
       "대구    16699\n",
       "Name: 농작물 생산량(톤), dtype: int64"
      ]
     },
     "execution_count": 10,
     "metadata": {},
     "output_type": "execute_result"
    }
   ],
   "source": [
    "s.name = '농작물 생산량(톤)'\n",
    "s"
   ]
  },
  {
   "cell_type": "code",
   "execution_count": 11,
   "id": "af163cfb",
   "metadata": {},
   "outputs": [],
   "source": [
    "s.index.name = '지역'"
   ]
  },
  {
   "cell_type": "code",
   "execution_count": 12,
   "id": "e2346032",
   "metadata": {},
   "outputs": [
    {
     "data": {
      "text/plain": [
       "지역\n",
       "서울     1116\n",
       "부산    12259\n",
       "인천    65119\n",
       "대구    16699\n",
       "Name: 농작물 생산량(톤), dtype: int64"
      ]
     },
     "execution_count": 12,
     "metadata": {},
     "output_type": "execute_result"
    }
   ],
   "source": [
    "s"
   ]
  },
  {
   "cell_type": "code",
   "execution_count": 14,
   "id": "a2aab913",
   "metadata": {},
   "outputs": [],
   "source": [
    "s1 = s/1000"
   ]
  },
  {
   "cell_type": "code",
   "execution_count": 15,
   "id": "b9c1b1da",
   "metadata": {},
   "outputs": [],
   "source": [
    "s1.name = '농작물 생산량(k톤)'"
   ]
  },
  {
   "cell_type": "code",
   "execution_count": 16,
   "id": "dc85e4ce",
   "metadata": {},
   "outputs": [
    {
     "data": {
      "text/plain": [
       "지역\n",
       "서울     1.116\n",
       "부산    12.259\n",
       "인천    65.119\n",
       "대구    16.699\n",
       "Name: 농작물 생산량(k톤), dtype: float64"
      ]
     },
     "execution_count": 16,
     "metadata": {},
     "output_type": "execute_result"
    }
   ],
   "source": [
    "s1"
   ]
  },
  {
   "cell_type": "code",
   "execution_count": 18,
   "id": "f77ca953",
   "metadata": {},
   "outputs": [
    {
     "data": {
      "text/plain": [
       "지역\n",
       "서울    0.03\n",
       "부산    0.28\n",
       "인천    1.46\n",
       "대구    0.37\n",
       "Name: 농작물 생산량(톤), dtype: float64"
      ]
     },
     "execution_count": 18,
     "metadata": {},
     "output_type": "execute_result"
    }
   ],
   "source": [
    "(s/4456952*100).round(2)"
   ]
  },
  {
   "cell_type": "code",
   "execution_count": 19,
   "id": "e1bc06c6",
   "metadata": {},
   "outputs": [
    {
     "data": {
      "text/plain": [
       "지역\n",
       "서울     1116\n",
       "부산    12259\n",
       "인천    65119\n",
       "대구    16699\n",
       "Name: 농작물 생산량(톤), dtype: int64"
      ]
     },
     "execution_count": 19,
     "metadata": {},
     "output_type": "execute_result"
    }
   ],
   "source": [
    "s"
   ]
  },
  {
   "cell_type": "code",
   "execution_count": 22,
   "id": "a6c35841",
   "metadata": {},
   "outputs": [
    {
     "data": {
      "text/plain": [
       "(1116, 1116)"
      ]
     },
     "execution_count": 22,
     "metadata": {},
     "output_type": "execute_result"
    }
   ],
   "source": [
    "# index 접근\n",
    "s[0],s['서울']"
   ]
  },
  {
   "cell_type": "code",
   "execution_count": 23,
   "id": "d22c8b25",
   "metadata": {},
   "outputs": [
    {
     "data": {
      "text/plain": [
       "지역\n",
       "서울     1116\n",
       "부산    12259\n",
       "Name: 농작물 생산량(톤), dtype: int64"
      ]
     },
     "execution_count": 23,
     "metadata": {},
     "output_type": "execute_result"
    }
   ],
   "source": [
    "s[[0,1]]"
   ]
  },
  {
   "cell_type": "code",
   "execution_count": 24,
   "id": "beb2d610",
   "metadata": {},
   "outputs": [
    {
     "data": {
      "text/plain": [
       "지역\n",
       "부산    12259\n",
       "서울     1116\n",
       "Name: 농작물 생산량(톤), dtype: int64"
      ]
     },
     "execution_count": 24,
     "metadata": {},
     "output_type": "execute_result"
    }
   ],
   "source": [
    "s[[1,0]]"
   ]
  },
  {
   "cell_type": "code",
   "execution_count": 25,
   "id": "f15d70dc",
   "metadata": {},
   "outputs": [
    {
     "data": {
      "text/plain": [
       "지역\n",
       "부산    12259\n",
       "서울     1116\n",
       "Name: 농작물 생산량(톤), dtype: int64"
      ]
     },
     "execution_count": 25,
     "metadata": {},
     "output_type": "execute_result"
    }
   ],
   "source": [
    "s[['부산','서울']]"
   ]
  },
  {
   "cell_type": "code",
   "execution_count": 26,
   "id": "99ef80c0",
   "metadata": {},
   "outputs": [
    {
     "data": {
      "text/plain": [
       "지역\n",
       "부산    12259\n",
       "인천    65119\n",
       "대구    16699\n",
       "Name: 농작물 생산량(톤), dtype: int64"
      ]
     },
     "execution_count": 26,
     "metadata": {},
     "output_type": "execute_result"
    }
   ],
   "source": [
    "# 조건 걸고 가져오기\n",
    "s[s>10000]"
   ]
  },
  {
   "cell_type": "code",
   "execution_count": 30,
   "id": "7c68683f",
   "metadata": {},
   "outputs": [
    {
     "data": {
      "text/plain": [
       "지역\n",
       "부산    12259\n",
       "대구    16699\n",
       "Name: 농작물 생산량(톤), dtype: int64"
      ]
     },
     "execution_count": 30,
     "metadata": {},
     "output_type": "execute_result"
    }
   ],
   "source": [
    "s[(s>10000) & (s<20000)]"
   ]
  },
  {
   "cell_type": "code",
   "execution_count": 32,
   "id": "23d66bb6",
   "metadata": {},
   "outputs": [
    {
     "data": {
      "text/plain": [
       "지역\n",
       "인천    65119\n",
       "Name: 농작물 생산량(톤), dtype: int64"
      ]
     },
     "execution_count": 32,
     "metadata": {},
     "output_type": "execute_result"
    }
   ],
   "source": [
    "# 내부에 연산, 조건 등을 넣어서 원하는 데이터를 가져오기\n",
    "s[(s/4456952*100) > 0.5]"
   ]
  },
  {
   "cell_type": "code",
   "execution_count": 35,
   "id": "c1988f4f",
   "metadata": {},
   "outputs": [
    {
     "data": {
      "text/plain": [
       "지역\n",
       "부산    12259\n",
       "인천    65119\n",
       "Name: 농작물 생산량(톤), dtype: int64"
      ]
     },
     "execution_count": 35,
     "metadata": {},
     "output_type": "execute_result"
    }
   ],
   "source": [
    "# value면 뒷부분이 미만으로 처리\n",
    "s[1:3]"
   ]
  },
  {
   "cell_type": "code",
   "execution_count": 36,
   "id": "5625d503",
   "metadata": {},
   "outputs": [
    {
     "data": {
      "text/plain": [
       "지역\n",
       "서울     1116\n",
       "부산    12259\n",
       "인천    65119\n",
       "대구    16699\n",
       "Name: 농작물 생산량(톤), dtype: int64"
      ]
     },
     "execution_count": 36,
     "metadata": {},
     "output_type": "execute_result"
    }
   ],
   "source": [
    "# key면 뒷부분이 포함되어 처리\n",
    "s['서울':'대구']"
   ]
  },
  {
   "cell_type": "code",
   "execution_count": 37,
   "id": "fbd87296",
   "metadata": {},
   "outputs": [],
   "source": [
    "# index가 다른 경우에는 연산 시에 에러를 뱉어냄\n",
    "# s1 = s1.rename({'서울':'제주도'})"
   ]
  },
  {
   "cell_type": "code",
   "execution_count": 38,
   "id": "0ae9798d",
   "metadata": {},
   "outputs": [
    {
     "data": {
      "text/plain": [
       "1116"
      ]
     },
     "execution_count": 38,
     "metadata": {},
     "output_type": "execute_result"
    }
   ],
   "source": [
    "s.서울"
   ]
  },
  {
   "cell_type": "code",
   "execution_count": 45,
   "id": "23e14e22",
   "metadata": {},
   "outputs": [
    {
     "data": {
      "text/plain": [
       "서울    1\n",
       "부산    2\n",
       "dtype: int64"
      ]
     },
     "execution_count": 45,
     "metadata": {},
     "output_type": "execute_result"
    }
   ],
   "source": [
    "d1 = {'서울':1, '부산':2}\n",
    "pd.Series(d1)"
   ]
  },
  {
   "cell_type": "code",
   "execution_count": 40,
   "id": "64168f1b",
   "metadata": {},
   "outputs": [
    {
     "name": "stdout",
     "output_type": "stream",
     "text": [
      "서울 1116\n",
      "부산 12259\n",
      "인천 65119\n",
      "대구 16699\n"
     ]
    }
   ],
   "source": [
    "for k,v in s.items():\n",
    "    print(k,v)"
   ]
  },
  {
   "cell_type": "code",
   "execution_count": 41,
   "id": "66844eed",
   "metadata": {},
   "outputs": [
    {
     "data": {
      "text/plain": [
       "True"
      ]
     },
     "execution_count": 41,
     "metadata": {},
     "output_type": "execute_result"
    }
   ],
   "source": [
    "'서울' in s.keys()"
   ]
  },
  {
   "cell_type": "code",
   "execution_count": 42,
   "id": "00221870",
   "metadata": {},
   "outputs": [
    {
     "data": {
      "text/plain": [
       "True"
      ]
     },
     "execution_count": 42,
     "metadata": {},
     "output_type": "execute_result"
    }
   ],
   "source": [
    "'서울' in s"
   ]
  },
  {
   "cell_type": "code",
   "execution_count": 43,
   "id": "681886c2",
   "metadata": {},
   "outputs": [
    {
     "data": {
      "text/plain": [
       "False"
      ]
     },
     "execution_count": 43,
     "metadata": {},
     "output_type": "execute_result"
    }
   ],
   "source": [
    "'제주도' in s.keys()"
   ]
  },
  {
   "cell_type": "code",
   "execution_count": 46,
   "id": "4c76d9f8",
   "metadata": {},
   "outputs": [],
   "source": [
    "# index 기반 연산\n",
    "s21 = pd.Series([1116,12259, 65119, 16699], index = ['서울','부산','인천','대구'])\n",
    "s20 = pd.Series([628,11075,56013,15695], index=['서울','부산','인천','대구'])"
   ]
  },
  {
   "cell_type": "code",
   "execution_count": 51,
   "id": "ea8b2919",
   "metadata": {},
   "outputs": [
    {
     "name": "stdout",
     "output_type": "stream",
     "text": [
      "서울     488\n",
      "부산    1184\n",
      "인천    9106\n",
      "대구    1004\n",
      "dtype: int64\n"
     ]
    }
   ],
   "source": [
    "# index가 같을 때에만 연산됨. index가 같지 않을 경우 NaN이 나옴\n",
    "print(s21 - s20)\n"
   ]
  },
  {
   "cell_type": "code",
   "execution_count": 49,
   "id": "7920a213",
   "metadata": {},
   "outputs": [
    {
     "data": {
      "text/plain": [
       "float"
      ]
     },
     "execution_count": 49,
     "metadata": {},
     "output_type": "execute_result"
    }
   ],
   "source": [
    "import numpy as np\n",
    "type(np.nan)"
   ]
  },
  {
   "cell_type": "code",
   "execution_count": 50,
   "id": "e37f2b0b",
   "metadata": {},
   "outputs": [
    {
     "name": "stdout",
     "output_type": "stream",
     "text": [
      "Python 3.9.12\n"
     ]
    }
   ],
   "source": [
    "!python --version"
   ]
  },
  {
   "cell_type": "code",
   "execution_count": 81,
   "id": "7bcc57ad",
   "metadata": {},
   "outputs": [
    {
     "data": {
      "text/plain": [
       "대구     1004.0\n",
       "부산     1184.0\n",
       "서울        NaN\n",
       "인천     9106.0\n",
       "제주도       NaN\n",
       "dtype: float64"
      ]
     },
     "execution_count": 81,
     "metadata": {},
     "output_type": "execute_result"
    }
   ],
   "source": [
    "s20 = pd.Series([628,11075,56013,15695], index=['제주도','부산','인천','대구'])\n",
    "s_sub = s21 - s20\n",
    "s_sub"
   ]
  },
  {
   "cell_type": "code",
   "execution_count": 82,
   "id": "11d7348a",
   "metadata": {},
   "outputs": [
    {
     "data": {
      "text/plain": [
       "대구     1004.0\n",
       "부산     1184.0\n",
       "서울     1116.0\n",
       "인천     9106.0\n",
       "제주도    -628.0\n",
       "dtype: float64"
      ]
     },
     "execution_count": 82,
     "metadata": {},
     "output_type": "execute_result"
    }
   ],
   "source": [
    "# NaN 값을 0으로 대체한 후 연산해줌\n",
    "s21.sub(s20, fill_value=0)"
   ]
  },
  {
   "cell_type": "code",
   "execution_count": 83,
   "id": "0130b0ef",
   "metadata": {},
   "outputs": [],
   "source": [
    "s_sub2 = s21.sub(s20)"
   ]
  },
  {
   "cell_type": "code",
   "execution_count": 84,
   "id": "0d916d46",
   "metadata": {},
   "outputs": [
    {
     "data": {
      "text/plain": [
       "대구     1004.0\n",
       "부산     1184.0\n",
       "서울        NaN\n",
       "인천     9106.0\n",
       "제주도       NaN\n",
       "dtype: float64"
      ]
     },
     "execution_count": 84,
     "metadata": {},
     "output_type": "execute_result"
    }
   ],
   "source": [
    "s_sub2"
   ]
  },
  {
   "cell_type": "code",
   "execution_count": 85,
   "id": "22731db5",
   "metadata": {},
   "outputs": [
    {
     "data": {
      "text/plain": [
       "대구      True\n",
       "부산      True\n",
       "서울     False\n",
       "인천      True\n",
       "제주도    False\n",
       "dtype: bool"
      ]
     },
     "execution_count": 85,
     "metadata": {},
     "output_type": "execute_result"
    }
   ],
   "source": [
    "s_sub2.notnull()"
   ]
  },
  {
   "cell_type": "code",
   "execution_count": 86,
   "id": "7c536b73",
   "metadata": {},
   "outputs": [
    {
     "data": {
      "text/plain": [
       "대구     1004.0\n",
       "부산     1184.0\n",
       "서울        0.0\n",
       "인천     9106.0\n",
       "제주도       0.0\n",
       "dtype: float64"
      ]
     },
     "execution_count": 86,
     "metadata": {},
     "output_type": "execute_result"
    }
   ],
   "source": [
    "s_sub2.fillna(0)"
   ]
  },
  {
   "cell_type": "code",
   "execution_count": 87,
   "id": "555483d4",
   "metadata": {},
   "outputs": [
    {
     "name": "stdout",
     "output_type": "stream",
     "text": [
      "서울      628\n",
      "부산    11075\n",
      "인천    56013\n",
      "대구    15695\n",
      "dtype: int64 서울     1116\n",
      "부산    12259\n",
      "인천    65119\n",
      "대구    16699\n",
      "dtype: int64\n"
     ]
    }
   ],
   "source": [
    "s20 = pd.Series([628,11075,56013,15695], index=['서울','부산','인천','대구'])\n",
    "print(s20,s21)"
   ]
  },
  {
   "cell_type": "code",
   "execution_count": 88,
   "id": "799495e5",
   "metadata": {},
   "outputs": [
    {
     "data": {
      "text/plain": [
       "서울    77.71\n",
       "부산    10.69\n",
       "인천    16.26\n",
       "대구     6.40\n",
       "dtype: float64"
      ]
     },
     "execution_count": 88,
     "metadata": {},
     "output_type": "execute_result"
    }
   ],
   "source": [
    "rs = ((s21-s20) / s20 * 100).round(2)\n",
    "rs"
   ]
  },
  {
   "cell_type": "code",
   "execution_count": 89,
   "id": "8fd68064",
   "metadata": {},
   "outputs": [
    {
     "data": {
      "text/plain": [
       "77.71"
      ]
     },
     "execution_count": 89,
     "metadata": {},
     "output_type": "execute_result"
    }
   ],
   "source": [
    "rs['서울']"
   ]
  },
  {
   "cell_type": "code",
   "execution_count": 90,
   "id": "9b7eca5f",
   "metadata": {},
   "outputs": [
    {
     "data": {
      "text/plain": [
       "서울    123.00\n",
       "부산     10.69\n",
       "인천     16.26\n",
       "대구      6.40\n",
       "dtype: float64"
      ]
     },
     "execution_count": 90,
     "metadata": {},
     "output_type": "execute_result"
    }
   ],
   "source": [
    "rs['서울'] = 0\n",
    "rs[0]=123\n",
    "rs"
   ]
  },
  {
   "cell_type": "code",
   "execution_count": 91,
   "id": "78780010",
   "metadata": {},
   "outputs": [
    {
     "data": {
      "text/plain": [
       "서울    123.00\n",
       "부산     10.69\n",
       "인천     16.26\n",
       "dtype: float64"
      ]
     },
     "execution_count": 91,
     "metadata": {},
     "output_type": "execute_result"
    }
   ],
   "source": [
    "del rs['대구']\n",
    "rs"
   ]
  },
  {
   "cell_type": "code",
   "execution_count": 92,
   "id": "894127b9",
   "metadata": {},
   "outputs": [
    {
     "data": {
      "text/plain": [
       "부산    10.69\n",
       "인천    16.26\n",
       "dtype: float64"
      ]
     },
     "execution_count": 92,
     "metadata": {},
     "output_type": "execute_result"
    }
   ],
   "source": [
    "del rs['서울']\n",
    "rs"
   ]
  },
  {
   "cell_type": "code",
   "execution_count": 93,
   "id": "58227cc9",
   "metadata": {},
   "outputs": [
    {
     "data": {
      "text/plain": [
       "부산    10.69\n",
       "인천    16.26\n",
       "서울    77.71\n",
       "dtype: float64"
      ]
     },
     "execution_count": 93,
     "metadata": {},
     "output_type": "execute_result"
    }
   ],
   "source": [
    "rs['서울'] = 77.71\n",
    "rs"
   ]
  },
  {
   "cell_type": "code",
   "execution_count": 94,
   "id": "c17f7570",
   "metadata": {},
   "outputs": [
    {
     "data": {
      "text/plain": [
       "부산    10.69\n",
       "인천    16.26\n",
       "서울    77.71\n",
       "대구     6.40\n",
       "dtype: float64"
      ]
     },
     "execution_count": 94,
     "metadata": {},
     "output_type": "execute_result"
    }
   ],
   "source": [
    "rs['대구'] = 6.40\n",
    "rs"
   ]
  },
  {
   "cell_type": "code",
   "execution_count": 95,
   "id": "9b8bb850",
   "metadata": {},
   "outputs": [],
   "source": [
    "import random"
   ]
  },
  {
   "cell_type": "code",
   "execution_count": 108,
   "id": "33b13476",
   "metadata": {},
   "outputs": [],
   "source": [
    "key100 = random.sample(list(range(120)),100)\n",
    "# pd.Series() 크기가 100\n",
    "# 키값 100개, 밸류값 100개\n",
    "\n",
    "key80 = random.sample(list(range(120)),80)\n",
    "value100 = random.sample(list(range(120)),100)\n",
    "value80 = random.sample(list(range(120)),80)\n",
    "\n",
    "s100 = pd.Series(value100, index=key100)\n",
    "s80 = pd.Series(value80, index=key80)"
   ]
  },
  {
   "cell_type": "code",
   "execution_count": 109,
   "id": "8bcf755b",
   "metadata": {},
   "outputs": [],
   "source": [
    "s_100_80_sub = (s100-s80)"
   ]
  },
  {
   "cell_type": "code",
   "execution_count": 110,
   "id": "884367f8",
   "metadata": {},
   "outputs": [
    {
     "name": "stdout",
     "output_type": "stream",
     "text": [
      "0 True\n",
      "1 True\n",
      "2 True\n",
      "4 True\n",
      "6 True\n",
      "8 True\n",
      "9 True\n",
      "11 True\n",
      "16 True\n",
      "19 True\n",
      "21 True\n",
      "22 True\n",
      "23 True\n",
      "24 True\n",
      "26 True\n",
      "27 True\n",
      "28 True\n",
      "29 True\n",
      "30 True\n",
      "32 True\n",
      "33 True\n",
      "34 True\n",
      "35 True\n",
      "37 True\n",
      "39 True\n",
      "41 True\n",
      "42 True\n",
      "43 True\n",
      "44 True\n",
      "45 True\n",
      "46 True\n",
      "53 True\n",
      "54 True\n",
      "55 True\n",
      "56 True\n",
      "58 True\n",
      "59 True\n",
      "64 True\n",
      "65 True\n",
      "66 True\n",
      "67 True\n",
      "69 True\n",
      "71 True\n",
      "75 True\n",
      "76 True\n",
      "77 True\n",
      "78 True\n",
      "79 True\n",
      "84 True\n",
      "85 True\n",
      "86 True\n",
      "87 True\n",
      "88 True\n",
      "93 True\n",
      "94 True\n",
      "100 True\n",
      "101 True\n",
      "102 True\n",
      "103 True\n",
      "105 True\n",
      "106 True\n",
      "109 True\n",
      "111 True\n",
      "113 True\n",
      "116 True\n",
      "117 True\n",
      "119 True\n"
     ]
    }
   ],
   "source": [
    "for k,v in s_100_80_sub.notnull().items():\n",
    "    if v:\n",
    "        print(k,v)"
   ]
  },
  {
   "cell_type": "code",
   "execution_count": 111,
   "id": "8e597f1f",
   "metadata": {},
   "outputs": [
    {
     "name": "stdout",
     "output_type": "stream",
     "text": [
      "80 100\n"
     ]
    }
   ],
   "source": [
    "print(len(set(key80)),len(set(key100)))"
   ]
  },
  {
   "cell_type": "code",
   "execution_count": 112,
   "id": "69e9d416",
   "metadata": {},
   "outputs": [
    {
     "data": {
      "text/plain": [
       "-40.0"
      ]
     },
     "execution_count": 112,
     "metadata": {},
     "output_type": "execute_result"
    }
   ],
   "source": [
    "s_100_80_sub[33]"
   ]
  },
  {
   "cell_type": "code",
   "execution_count": 113,
   "id": "dac4d2a9",
   "metadata": {},
   "outputs": [
    {
     "data": {
      "text/plain": [
       "17"
      ]
     },
     "execution_count": 113,
     "metadata": {},
     "output_type": "execute_result"
    }
   ],
   "source": [
    "s100[33]"
   ]
  },
  {
   "cell_type": "code",
   "execution_count": 114,
   "id": "5334dcec",
   "metadata": {},
   "outputs": [
    {
     "data": {
      "text/plain": [
       "57"
      ]
     },
     "execution_count": 114,
     "metadata": {},
     "output_type": "execute_result"
    }
   ],
   "source": [
    "s80[33]"
   ]
  },
  {
   "cell_type": "code",
   "execution_count": 115,
   "id": "ca6228db",
   "metadata": {},
   "outputs": [
    {
     "data": {
      "text/plain": [
       "(81, 78)"
      ]
     },
     "execution_count": 115,
     "metadata": {},
     "output_type": "execute_result"
    }
   ],
   "source": [
    "s100[0],s80[0]"
   ]
  },
  {
   "cell_type": "code",
   "execution_count": 116,
   "id": "e4b534d8",
   "metadata": {},
   "outputs": [
    {
     "data": {
      "text/plain": [
       "0     3.0\n",
       "1   -44.0\n",
       "2   -37.0\n",
       "3   -70.0\n",
       "4    -4.0\n",
       "dtype: float64"
      ]
     },
     "execution_count": 116,
     "metadata": {},
     "output_type": "execute_result"
    }
   ],
   "source": [
    "s_100_80_mul = s100.sub(s80,fill_value=0)\n",
    "s_100_80_mul.head()"
   ]
  },
  {
   "cell_type": "code",
   "execution_count": 118,
   "id": "4a2d58ec",
   "metadata": {
    "scrolled": true
   },
   "outputs": [
    {
     "data": {
      "text/plain": [
       "0       3.0\n",
       "1     -44.0\n",
       "2     -37.0\n",
       "3       0.0\n",
       "4      -4.0\n",
       "       ... \n",
       "115     0.0\n",
       "116    11.0\n",
       "117    65.0\n",
       "118     0.0\n",
       "119    73.0\n",
       "Length: 113, dtype: float64"
      ]
     },
     "execution_count": 118,
     "metadata": {},
     "output_type": "execute_result"
    }
   ],
   "source": [
    "s_100_80_mul = s100.sub(s80)\n",
    "s_100_80_mul.fillna(0)"
   ]
  },
  {
   "cell_type": "code",
   "execution_count": null,
   "id": "012853b9",
   "metadata": {},
   "outputs": [],
   "source": []
  }
 ],
 "metadata": {
  "kernelspec": {
   "display_name": "Python 3 (ipykernel)",
   "language": "python",
   "name": "python3"
  },
  "language_info": {
   "codemirror_mode": {
    "name": "ipython",
    "version": 3
   },
   "file_extension": ".py",
   "mimetype": "text/x-python",
   "name": "python",
   "nbconvert_exporter": "python",
   "pygments_lexer": "ipython3",
   "version": "3.9.12"
  }
 },
 "nbformat": 4,
 "nbformat_minor": 5
}
