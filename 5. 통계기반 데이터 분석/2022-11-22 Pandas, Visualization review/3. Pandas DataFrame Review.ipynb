{
 "cells": [
  {
   "cell_type": "code",
   "execution_count": 3,
   "id": "989ae577",
   "metadata": {},
   "outputs": [
    {
     "data": {
      "text/html": [
       "<div>\n",
       "<style scoped>\n",
       "    .dataframe tbody tr th:only-of-type {\n",
       "        vertical-align: middle;\n",
       "    }\n",
       "\n",
       "    .dataframe tbody tr th {\n",
       "        vertical-align: top;\n",
       "    }\n",
       "\n",
       "    .dataframe thead th {\n",
       "        text-align: right;\n",
       "    }\n",
       "</style>\n",
       "<table border=\"1\" class=\"dataframe\">\n",
       "  <thead>\n",
       "    <tr style=\"text-align: right;\">\n",
       "      <th></th>\n",
       "      <th>농지면적순위</th>\n",
       "      <th>2021</th>\n",
       "      <th>2020</th>\n",
       "      <th>2019</th>\n",
       "      <th>2018</th>\n",
       "    </tr>\n",
       "  </thead>\n",
       "  <tbody>\n",
       "    <tr>\n",
       "      <th>서울</th>\n",
       "      <td>4</td>\n",
       "      <td>1116</td>\n",
       "      <td>628</td>\n",
       "      <td>678</td>\n",
       "      <td>712</td>\n",
       "    </tr>\n",
       "    <tr>\n",
       "      <th>부산</th>\n",
       "      <td>3</td>\n",
       "      <td>12259</td>\n",
       "      <td>11075</td>\n",
       "      <td>12700</td>\n",
       "      <td>13597</td>\n",
       "    </tr>\n",
       "    <tr>\n",
       "      <th>대구</th>\n",
       "      <td>2</td>\n",
       "      <td>16699</td>\n",
       "      <td>15695</td>\n",
       "      <td>15148</td>\n",
       "      <td>16052</td>\n",
       "    </tr>\n",
       "    <tr>\n",
       "      <th>인천</th>\n",
       "      <td>1</td>\n",
       "      <td>65119</td>\n",
       "      <td>56013</td>\n",
       "      <td>55443</td>\n",
       "      <td>56024</td>\n",
       "    </tr>\n",
       "  </tbody>\n",
       "</table>\n",
       "</div>"
      ],
      "text/plain": [
       "    농지면적순위   2021   2020   2019   2018\n",
       "서울       4   1116    628    678    712\n",
       "부산       3  12259  11075  12700  13597\n",
       "대구       2  16699  15695  15148  16052\n",
       "인천       1  65119  56013  55443  56024"
      ]
     },
     "execution_count": 3,
     "metadata": {},
     "output_type": "execute_result"
    }
   ],
   "source": [
    "import pandas as pd\n",
    "data = {\n",
    "    '2021' : [1116,12259,16699,65119],\n",
    "    '2020' : [628,11075,15695,56013],\n",
    "    '2019' : [678,12700,15148,55443],\n",
    "    '2018' : [712,13597,16052,56024],\n",
    "    '농지면적순위' : [4,3,2,1]\n",
    "}\n",
    "columns = ['농지면적순위','2021','2020','2019','2018']\n",
    "index = ['서울','부산','대구','인천']\n",
    "df = pd.DataFrame(data, index=index, columns=columns)\n",
    "df"
   ]
  },
  {
   "cell_type": "code",
   "execution_count": 4,
   "id": "94dfc443",
   "metadata": {
    "scrolled": false
   },
   "outputs": [
    {
     "data": {
      "text/plain": [
       "Index(['농지면적순위', '2021', '2020', '2019', '2018'], dtype='object')"
      ]
     },
     "execution_count": 4,
     "metadata": {},
     "output_type": "execute_result"
    }
   ],
   "source": [
    "df.columns"
   ]
  },
  {
   "cell_type": "code",
   "execution_count": 5,
   "id": "0444e8c1",
   "metadata": {},
   "outputs": [
    {
     "data": {
      "text/plain": [
       "Index(['서울', '부산', '대구', '인천'], dtype='object')"
      ]
     },
     "execution_count": 5,
     "metadata": {},
     "output_type": "execute_result"
    }
   ],
   "source": [
    "df.index"
   ]
  },
  {
   "cell_type": "code",
   "execution_count": 6,
   "id": "75c59293",
   "metadata": {},
   "outputs": [
    {
     "data": {
      "text/plain": [
       "array([[    4,  1116,   628,   678,   712],\n",
       "       [    3, 12259, 11075, 12700, 13597],\n",
       "       [    2, 16699, 15695, 15148, 16052],\n",
       "       [    1, 65119, 56013, 55443, 56024]], dtype=int64)"
      ]
     },
     "execution_count": 6,
     "metadata": {},
     "output_type": "execute_result"
    }
   ],
   "source": [
    "df.values"
   ]
  },
  {
   "cell_type": "code",
   "execution_count": 7,
   "id": "32f64aea",
   "metadata": {},
   "outputs": [
    {
     "name": "stdout",
     "output_type": "stream",
     "text": [
      "<class 'pandas.core.frame.DataFrame'>\n",
      "Index: 4 entries, 서울 to 인천\n",
      "Data columns (total 5 columns):\n",
      " #   Column  Non-Null Count  Dtype\n",
      "---  ------  --------------  -----\n",
      " 0   농지면적순위  4 non-null      int64\n",
      " 1   2021    4 non-null      int64\n",
      " 2   2020    4 non-null      int64\n",
      " 3   2019    4 non-null      int64\n",
      " 4   2018    4 non-null      int64\n",
      "dtypes: int64(5)\n",
      "memory usage: 192.0+ bytes\n"
     ]
    }
   ],
   "source": [
    "df.info()"
   ]
  },
  {
   "cell_type": "code",
   "execution_count": 8,
   "id": "cd7b6f42",
   "metadata": {},
   "outputs": [
    {
     "data": {
      "text/html": [
       "<div>\n",
       "<style scoped>\n",
       "    .dataframe tbody tr th:only-of-type {\n",
       "        vertical-align: middle;\n",
       "    }\n",
       "\n",
       "    .dataframe tbody tr th {\n",
       "        vertical-align: top;\n",
       "    }\n",
       "\n",
       "    .dataframe thead th {\n",
       "        text-align: right;\n",
       "    }\n",
       "</style>\n",
       "<table border=\"1\" class=\"dataframe\">\n",
       "  <thead>\n",
       "    <tr style=\"text-align: right;\">\n",
       "      <th></th>\n",
       "      <th>농지면적순위</th>\n",
       "      <th>2021</th>\n",
       "      <th>2020</th>\n",
       "      <th>2019</th>\n",
       "      <th>2018</th>\n",
       "    </tr>\n",
       "    <tr>\n",
       "      <th>지역</th>\n",
       "      <th></th>\n",
       "      <th></th>\n",
       "      <th></th>\n",
       "      <th></th>\n",
       "      <th></th>\n",
       "    </tr>\n",
       "  </thead>\n",
       "  <tbody>\n",
       "    <tr>\n",
       "      <th>서울</th>\n",
       "      <td>4</td>\n",
       "      <td>1116</td>\n",
       "      <td>628</td>\n",
       "      <td>678</td>\n",
       "      <td>712</td>\n",
       "    </tr>\n",
       "    <tr>\n",
       "      <th>부산</th>\n",
       "      <td>3</td>\n",
       "      <td>12259</td>\n",
       "      <td>11075</td>\n",
       "      <td>12700</td>\n",
       "      <td>13597</td>\n",
       "    </tr>\n",
       "    <tr>\n",
       "      <th>대구</th>\n",
       "      <td>2</td>\n",
       "      <td>16699</td>\n",
       "      <td>15695</td>\n",
       "      <td>15148</td>\n",
       "      <td>16052</td>\n",
       "    </tr>\n",
       "    <tr>\n",
       "      <th>인천</th>\n",
       "      <td>1</td>\n",
       "      <td>65119</td>\n",
       "      <td>56013</td>\n",
       "      <td>55443</td>\n",
       "      <td>56024</td>\n",
       "    </tr>\n",
       "  </tbody>\n",
       "</table>\n",
       "</div>"
      ],
      "text/plain": [
       "    농지면적순위   2021   2020   2019   2018\n",
       "지역                                    \n",
       "서울       4   1116    628    678    712\n",
       "부산       3  12259  11075  12700  13597\n",
       "대구       2  16699  15695  15148  16052\n",
       "인천       1  65119  56013  55443  56024"
      ]
     },
     "execution_count": 8,
     "metadata": {},
     "output_type": "execute_result"
    }
   ],
   "source": [
    "df.index.name = '지역'\n",
    "df"
   ]
  },
  {
   "cell_type": "code",
   "execution_count": 11,
   "id": "ff2bfa34",
   "metadata": {},
   "outputs": [
    {
     "data": {
      "text/html": [
       "<div>\n",
       "<style scoped>\n",
       "    .dataframe tbody tr th:only-of-type {\n",
       "        vertical-align: middle;\n",
       "    }\n",
       "\n",
       "    .dataframe tbody tr th {\n",
       "        vertical-align: top;\n",
       "    }\n",
       "\n",
       "    .dataframe thead th {\n",
       "        text-align: right;\n",
       "    }\n",
       "</style>\n",
       "<table border=\"1\" class=\"dataframe\">\n",
       "  <thead>\n",
       "    <tr style=\"text-align: right;\">\n",
       "      <th>특성</th>\n",
       "      <th>농지면적순위</th>\n",
       "      <th>2021</th>\n",
       "      <th>2020</th>\n",
       "      <th>2019</th>\n",
       "      <th>2018</th>\n",
       "    </tr>\n",
       "    <tr>\n",
       "      <th>지역</th>\n",
       "      <th></th>\n",
       "      <th></th>\n",
       "      <th></th>\n",
       "      <th></th>\n",
       "      <th></th>\n",
       "    </tr>\n",
       "  </thead>\n",
       "  <tbody>\n",
       "    <tr>\n",
       "      <th>서울</th>\n",
       "      <td>4</td>\n",
       "      <td>1116</td>\n",
       "      <td>628</td>\n",
       "      <td>678</td>\n",
       "      <td>712</td>\n",
       "    </tr>\n",
       "    <tr>\n",
       "      <th>부산</th>\n",
       "      <td>3</td>\n",
       "      <td>12259</td>\n",
       "      <td>11075</td>\n",
       "      <td>12700</td>\n",
       "      <td>13597</td>\n",
       "    </tr>\n",
       "    <tr>\n",
       "      <th>대구</th>\n",
       "      <td>2</td>\n",
       "      <td>16699</td>\n",
       "      <td>15695</td>\n",
       "      <td>15148</td>\n",
       "      <td>16052</td>\n",
       "    </tr>\n",
       "    <tr>\n",
       "      <th>인천</th>\n",
       "      <td>1</td>\n",
       "      <td>65119</td>\n",
       "      <td>56013</td>\n",
       "      <td>55443</td>\n",
       "      <td>56024</td>\n",
       "    </tr>\n",
       "  </tbody>\n",
       "</table>\n",
       "</div>"
      ],
      "text/plain": [
       "특성  농지면적순위   2021   2020   2019   2018\n",
       "지역                                    \n",
       "서울       4   1116    628    678    712\n",
       "부산       3  12259  11075  12700  13597\n",
       "대구       2  16699  15695  15148  16052\n",
       "인천       1  65119  56013  55443  56024"
      ]
     },
     "execution_count": 11,
     "metadata": {},
     "output_type": "execute_result"
    }
   ],
   "source": [
    "df.columns.name = '특성'\n",
    "df"
   ]
  },
  {
   "cell_type": "code",
   "execution_count": 15,
   "id": "d6e19184",
   "metadata": {},
   "outputs": [
    {
     "data": {
      "text/plain": [
       "0    1.0\n",
       "1    2.0\n",
       "2    3.0\n",
       "3    4.0\n",
       "4    NaN\n",
       "dtype: float64"
      ]
     },
     "execution_count": 15,
     "metadata": {},
     "output_type": "execute_result"
    }
   ],
   "source": [
    "pd.Series([1,2,3,4,None])"
   ]
  },
  {
   "cell_type": "code",
   "execution_count": 39,
   "id": "a8b0b43d",
   "metadata": {},
   "outputs": [
    {
     "data": {
      "text/html": [
       "<div>\n",
       "<style scoped>\n",
       "    .dataframe tbody tr th:only-of-type {\n",
       "        vertical-align: middle;\n",
       "    }\n",
       "\n",
       "    .dataframe tbody tr th {\n",
       "        vertical-align: top;\n",
       "    }\n",
       "\n",
       "    .dataframe thead th {\n",
       "        text-align: right;\n",
       "    }\n",
       "</style>\n",
       "<table border=\"1\" class=\"dataframe\">\n",
       "  <thead>\n",
       "    <tr style=\"text-align: right;\">\n",
       "      <th>특성</th>\n",
       "      <th>2018</th>\n",
       "      <th>2019</th>\n",
       "      <th>2020</th>\n",
       "      <th>2021</th>\n",
       "      <th>농지면적순위</th>\n",
       "      <th>2018-2021 변화율</th>\n",
       "    </tr>\n",
       "    <tr>\n",
       "      <th>지역</th>\n",
       "      <th></th>\n",
       "      <th></th>\n",
       "      <th></th>\n",
       "      <th></th>\n",
       "      <th></th>\n",
       "      <th></th>\n",
       "    </tr>\n",
       "  </thead>\n",
       "  <tbody>\n",
       "    <tr>\n",
       "      <th>서울</th>\n",
       "      <td>712</td>\n",
       "      <td>678</td>\n",
       "      <td>628</td>\n",
       "      <td>1116</td>\n",
       "      <td>4</td>\n",
       "      <td>56.741573</td>\n",
       "    </tr>\n",
       "    <tr>\n",
       "      <th>부산</th>\n",
       "      <td>13597</td>\n",
       "      <td>12700</td>\n",
       "      <td>11075</td>\n",
       "      <td>12259</td>\n",
       "      <td>3</td>\n",
       "      <td>-9.840406</td>\n",
       "    </tr>\n",
       "    <tr>\n",
       "      <th>대구</th>\n",
       "      <td>16052</td>\n",
       "      <td>15148</td>\n",
       "      <td>15695</td>\n",
       "      <td>16699</td>\n",
       "      <td>2</td>\n",
       "      <td>4.030650</td>\n",
       "    </tr>\n",
       "    <tr>\n",
       "      <th>인천</th>\n",
       "      <td>56024</td>\n",
       "      <td>55443</td>\n",
       "      <td>56013</td>\n",
       "      <td>65119</td>\n",
       "      <td>1</td>\n",
       "      <td>16.234114</td>\n",
       "    </tr>\n",
       "  </tbody>\n",
       "</table>\n",
       "</div>"
      ],
      "text/plain": [
       "특성   2018   2019   2020   2021  농지면적순위  2018-2021 변화율\n",
       "지역                                                   \n",
       "서울    712    678    628   1116       4      56.741573\n",
       "부산  13597  12700  11075  12259       3      -9.840406\n",
       "대구  16052  15148  15695  16699       2       4.030650\n",
       "인천  56024  55443  56013  65119       1      16.234114"
      ]
     },
     "execution_count": 39,
     "metadata": {},
     "output_type": "execute_result"
    }
   ],
   "source": [
    "df['2018-2021 변화율'] = ((df['2021']-df['2018'])/df['2018'] * 100)\n",
    "df"
   ]
  },
  {
   "cell_type": "code",
   "execution_count": 41,
   "id": "27d4142c",
   "metadata": {},
   "outputs": [
    {
     "data": {
      "text/html": [
       "<div>\n",
       "<style scoped>\n",
       "    .dataframe tbody tr th:only-of-type {\n",
       "        vertical-align: middle;\n",
       "    }\n",
       "\n",
       "    .dataframe tbody tr th {\n",
       "        vertical-align: top;\n",
       "    }\n",
       "\n",
       "    .dataframe thead th {\n",
       "        text-align: right;\n",
       "    }\n",
       "</style>\n",
       "<table border=\"1\" class=\"dataframe\">\n",
       "  <thead>\n",
       "    <tr style=\"text-align: right;\">\n",
       "      <th>특성</th>\n",
       "      <th>2018</th>\n",
       "      <th>2019</th>\n",
       "      <th>2020</th>\n",
       "      <th>2021</th>\n",
       "      <th>농지면적순위</th>\n",
       "      <th>2018-2021 변화율</th>\n",
       "    </tr>\n",
       "    <tr>\n",
       "      <th>지역</th>\n",
       "      <th></th>\n",
       "      <th></th>\n",
       "      <th></th>\n",
       "      <th></th>\n",
       "      <th></th>\n",
       "      <th></th>\n",
       "    </tr>\n",
       "  </thead>\n",
       "  <tbody>\n",
       "    <tr>\n",
       "      <th>서울</th>\n",
       "      <td>712</td>\n",
       "      <td>678</td>\n",
       "      <td>628</td>\n",
       "      <td>1116</td>\n",
       "      <td>4</td>\n",
       "      <td>56.741573</td>\n",
       "    </tr>\n",
       "    <tr>\n",
       "      <th>부산</th>\n",
       "      <td>13597</td>\n",
       "      <td>12700</td>\n",
       "      <td>11075</td>\n",
       "      <td>12259</td>\n",
       "      <td>3</td>\n",
       "      <td>-9.840406</td>\n",
       "    </tr>\n",
       "    <tr>\n",
       "      <th>대구</th>\n",
       "      <td>16052</td>\n",
       "      <td>15148</td>\n",
       "      <td>15695</td>\n",
       "      <td>16699</td>\n",
       "      <td>2</td>\n",
       "      <td>4.030650</td>\n",
       "    </tr>\n",
       "    <tr>\n",
       "      <th>인천</th>\n",
       "      <td>56024</td>\n",
       "      <td>55443</td>\n",
       "      <td>56013</td>\n",
       "      <td>65119</td>\n",
       "      <td>1</td>\n",
       "      <td>16.234114</td>\n",
       "    </tr>\n",
       "  </tbody>\n",
       "</table>\n",
       "</div>"
      ],
      "text/plain": [
       "특성   2018   2019   2020   2021  농지면적순위  2018-2021 변화율\n",
       "지역                                                   \n",
       "서울    712    678    628   1116       4      56.741573\n",
       "부산  13597  12700  11075  12259       3      -9.840406\n",
       "대구  16052  15148  15695  16699       2       4.030650\n",
       "인천  56024  55443  56013  65119       1      16.234114"
      ]
     },
     "execution_count": 41,
     "metadata": {},
     "output_type": "execute_result"
    }
   ],
   "source": [
    "df['2018-2021 변화율'].astype(int)\n",
    "df"
   ]
  },
  {
   "cell_type": "code",
   "execution_count": 43,
   "id": "5fccc459",
   "metadata": {},
   "outputs": [
    {
     "data": {
      "text/html": [
       "<div>\n",
       "<style scoped>\n",
       "    .dataframe tbody tr th:only-of-type {\n",
       "        vertical-align: middle;\n",
       "    }\n",
       "\n",
       "    .dataframe tbody tr th {\n",
       "        vertical-align: top;\n",
       "    }\n",
       "\n",
       "    .dataframe thead th {\n",
       "        text-align: right;\n",
       "    }\n",
       "</style>\n",
       "<table border=\"1\" class=\"dataframe\">\n",
       "  <thead>\n",
       "    <tr style=\"text-align: right;\">\n",
       "      <th>지역</th>\n",
       "      <th>서울</th>\n",
       "      <th>부산</th>\n",
       "      <th>대구</th>\n",
       "      <th>인천</th>\n",
       "    </tr>\n",
       "    <tr>\n",
       "      <th>특성</th>\n",
       "      <th></th>\n",
       "      <th></th>\n",
       "      <th></th>\n",
       "      <th></th>\n",
       "    </tr>\n",
       "  </thead>\n",
       "  <tbody>\n",
       "    <tr>\n",
       "      <th>2018</th>\n",
       "      <td>712</td>\n",
       "      <td>13597</td>\n",
       "      <td>16052</td>\n",
       "      <td>56024</td>\n",
       "    </tr>\n",
       "    <tr>\n",
       "      <th>2019</th>\n",
       "      <td>678</td>\n",
       "      <td>12700</td>\n",
       "      <td>15148</td>\n",
       "      <td>55443</td>\n",
       "    </tr>\n",
       "    <tr>\n",
       "      <th>2020</th>\n",
       "      <td>628</td>\n",
       "      <td>11075</td>\n",
       "      <td>15695</td>\n",
       "      <td>56013</td>\n",
       "    </tr>\n",
       "    <tr>\n",
       "      <th>2021</th>\n",
       "      <td>1116</td>\n",
       "      <td>12259</td>\n",
       "      <td>16699</td>\n",
       "      <td>65119</td>\n",
       "    </tr>\n",
       "    <tr>\n",
       "      <th>농지면적순위</th>\n",
       "      <td>4</td>\n",
       "      <td>3</td>\n",
       "      <td>2</td>\n",
       "      <td>1</td>\n",
       "    </tr>\n",
       "    <tr>\n",
       "      <th>2018-2021 변화율</th>\n",
       "      <td>56</td>\n",
       "      <td>-9</td>\n",
       "      <td>4</td>\n",
       "      <td>16</td>\n",
       "    </tr>\n",
       "  </tbody>\n",
       "</table>\n",
       "</div>"
      ],
      "text/plain": [
       "지역               서울     부산     대구     인천\n",
       "특성                                      \n",
       "2018            712  13597  16052  56024\n",
       "2019            678  12700  15148  55443\n",
       "2020            628  11075  15695  56013\n",
       "2021           1116  12259  16699  65119\n",
       "농지면적순위            4      3      2      1\n",
       "2018-2021 변화율    56     -9      4     16"
      ]
     },
     "execution_count": 43,
     "metadata": {},
     "output_type": "execute_result"
    }
   ],
   "source": [
    "df = df[['2018','2019','2020','2021','농지면적순위','2018-2021 변화율']]\n",
    "df.T.astype(int)"
   ]
  },
  {
   "cell_type": "code",
   "execution_count": 28,
   "id": "7208fb5a",
   "metadata": {},
   "outputs": [
    {
     "data": {
      "text/html": [
       "<div>\n",
       "<style scoped>\n",
       "    .dataframe tbody tr th:only-of-type {\n",
       "        vertical-align: middle;\n",
       "    }\n",
       "\n",
       "    .dataframe tbody tr th {\n",
       "        vertical-align: top;\n",
       "    }\n",
       "\n",
       "    .dataframe thead th {\n",
       "        text-align: right;\n",
       "    }\n",
       "</style>\n",
       "<table border=\"1\" class=\"dataframe\">\n",
       "  <thead>\n",
       "    <tr style=\"text-align: right;\">\n",
       "      <th>특성</th>\n",
       "      <th>2018</th>\n",
       "      <th>2021</th>\n",
       "    </tr>\n",
       "    <tr>\n",
       "      <th>지역</th>\n",
       "      <th></th>\n",
       "      <th></th>\n",
       "    </tr>\n",
       "  </thead>\n",
       "  <tbody>\n",
       "    <tr>\n",
       "      <th>서울</th>\n",
       "      <td>712</td>\n",
       "      <td>1116</td>\n",
       "    </tr>\n",
       "    <tr>\n",
       "      <th>부산</th>\n",
       "      <td>13597</td>\n",
       "      <td>12259</td>\n",
       "    </tr>\n",
       "    <tr>\n",
       "      <th>대구</th>\n",
       "      <td>16052</td>\n",
       "      <td>16699</td>\n",
       "    </tr>\n",
       "    <tr>\n",
       "      <th>인천</th>\n",
       "      <td>56024</td>\n",
       "      <td>65119</td>\n",
       "    </tr>\n",
       "  </tbody>\n",
       "</table>\n",
       "</div>"
      ],
      "text/plain": [
       "특성   2018   2021\n",
       "지역              \n",
       "서울    712   1116\n",
       "부산  13597  12259\n",
       "대구  16052  16699\n",
       "인천  56024  65119"
      ]
     },
     "execution_count": 28,
     "metadata": {},
     "output_type": "execute_result"
    }
   ],
   "source": [
    "df[['2018','2021']]"
   ]
  },
  {
   "cell_type": "code",
   "execution_count": 29,
   "id": "f30ebf30",
   "metadata": {},
   "outputs": [
    {
     "data": {
      "text/plain": [
       "지역\n",
       "서울      712\n",
       "부산    13597\n",
       "대구    16052\n",
       "인천    56024\n",
       "Name: 2018, dtype: int64"
      ]
     },
     "execution_count": 29,
     "metadata": {},
     "output_type": "execute_result"
    }
   ],
   "source": [
    "df['2018']"
   ]
  },
  {
   "cell_type": "code",
   "execution_count": 30,
   "id": "3d4476ec",
   "metadata": {},
   "outputs": [
    {
     "data": {
      "text/plain": [
       "712"
      ]
     },
     "execution_count": 30,
     "metadata": {},
     "output_type": "execute_result"
    }
   ],
   "source": [
    "# 시리즈 먼저 뽑고 index로 접근하는 과정(하나의 데이터 타입만 갖고오기 때문에 데이터 타입에 유의해야 함)\n",
    "df['2018']['서울']"
   ]
  },
  {
   "cell_type": "code",
   "execution_count": 31,
   "id": "cc1a601b",
   "metadata": {},
   "outputs": [
    {
     "data": {
      "text/plain": [
       "0    a\n",
       "1    b\n",
       "2    c\n",
       "3    d\n",
       "4    e\n",
       "dtype: object"
      ]
     },
     "execution_count": 31,
     "metadata": {},
     "output_type": "execute_result"
    }
   ],
   "source": [
    "temp = pd.Series(['a','b','c','d','e'])\n",
    "temp"
   ]
  },
  {
   "cell_type": "code",
   "execution_count": 33,
   "id": "31551ace",
   "metadata": {},
   "outputs": [
    {
     "data": {
      "text/plain": [
       "'a'"
      ]
     },
     "execution_count": 33,
     "metadata": {},
     "output_type": "execute_result"
    }
   ],
   "source": [
    "temp[0]"
   ]
  },
  {
   "cell_type": "code",
   "execution_count": 38,
   "id": "c48aa01e",
   "metadata": {},
   "outputs": [
    {
     "name": "stdout",
     "output_type": "stream",
     "text": [
      "1116\n",
      "1116\n"
     ]
    }
   ],
   "source": [
    "print(df['2021']['서울'])\n",
    "print(df['2021'][0])"
   ]
  },
  {
   "cell_type": "code",
   "execution_count": 46,
   "id": "e213327a",
   "metadata": {},
   "outputs": [
    {
     "data": {
      "text/html": [
       "<div>\n",
       "<style scoped>\n",
       "    .dataframe tbody tr th:only-of-type {\n",
       "        vertical-align: middle;\n",
       "    }\n",
       "\n",
       "    .dataframe tbody tr th {\n",
       "        vertical-align: top;\n",
       "    }\n",
       "\n",
       "    .dataframe thead th {\n",
       "        text-align: right;\n",
       "    }\n",
       "</style>\n",
       "<table border=\"1\" class=\"dataframe\">\n",
       "  <thead>\n",
       "    <tr style=\"text-align: right;\">\n",
       "      <th>특성</th>\n",
       "      <th>2018</th>\n",
       "      <th>2019</th>\n",
       "      <th>2020</th>\n",
       "      <th>2021</th>\n",
       "      <th>농지면적순위</th>\n",
       "      <th>2018-2021 변화율</th>\n",
       "    </tr>\n",
       "    <tr>\n",
       "      <th>지역</th>\n",
       "      <th></th>\n",
       "      <th></th>\n",
       "      <th></th>\n",
       "      <th></th>\n",
       "      <th></th>\n",
       "      <th></th>\n",
       "    </tr>\n",
       "  </thead>\n",
       "  <tbody>\n",
       "    <tr>\n",
       "      <th>서울</th>\n",
       "      <td>712</td>\n",
       "      <td>678</td>\n",
       "      <td>628</td>\n",
       "      <td>1116</td>\n",
       "      <td>4</td>\n",
       "      <td>56.741573</td>\n",
       "    </tr>\n",
       "    <tr>\n",
       "      <th>부산</th>\n",
       "      <td>13597</td>\n",
       "      <td>12700</td>\n",
       "      <td>11075</td>\n",
       "      <td>12259</td>\n",
       "      <td>3</td>\n",
       "      <td>-9.840406</td>\n",
       "    </tr>\n",
       "    <tr>\n",
       "      <th>대구</th>\n",
       "      <td>16052</td>\n",
       "      <td>15148</td>\n",
       "      <td>15695</td>\n",
       "      <td>16699</td>\n",
       "      <td>2</td>\n",
       "      <td>4.030650</td>\n",
       "    </tr>\n",
       "    <tr>\n",
       "      <th>인천</th>\n",
       "      <td>56024</td>\n",
       "      <td>55443</td>\n",
       "      <td>56013</td>\n",
       "      <td>65119</td>\n",
       "      <td>1</td>\n",
       "      <td>16.234114</td>\n",
       "    </tr>\n",
       "  </tbody>\n",
       "</table>\n",
       "</div>"
      ],
      "text/plain": [
       "특성   2018   2019   2020   2021  농지면적순위  2018-2021 변화율\n",
       "지역                                                   \n",
       "서울    712    678    628   1116       4      56.741573\n",
       "부산  13597  12700  11075  12259       3      -9.840406\n",
       "대구  16052  15148  15695  16699       2       4.030650\n",
       "인천  56024  55443  56013  65119       1      16.234114"
      ]
     },
     "execution_count": 46,
     "metadata": {},
     "output_type": "execute_result"
    }
   ],
   "source": [
    "df.sort_values(by='2018-2021 변화율')\n",
    "df"
   ]
  },
  {
   "cell_type": "code",
   "execution_count": 48,
   "id": "4d8bb908",
   "metadata": {},
   "outputs": [
    {
     "data": {
      "text/plain": [
       "[1, 2]"
      ]
     },
     "execution_count": 48,
     "metadata": {},
     "output_type": "execute_result"
    }
   ],
   "source": [
    "temp_list = [1,2,3,4]\n",
    "temp_list[:2]"
   ]
  },
  {
   "cell_type": "code",
   "execution_count": 49,
   "id": "6dfa66b1",
   "metadata": {},
   "outputs": [
    {
     "data": {
      "text/html": [
       "<div>\n",
       "<style scoped>\n",
       "    .dataframe tbody tr th:only-of-type {\n",
       "        vertical-align: middle;\n",
       "    }\n",
       "\n",
       "    .dataframe tbody tr th {\n",
       "        vertical-align: top;\n",
       "    }\n",
       "\n",
       "    .dataframe thead th {\n",
       "        text-align: right;\n",
       "    }\n",
       "</style>\n",
       "<table border=\"1\" class=\"dataframe\">\n",
       "  <thead>\n",
       "    <tr style=\"text-align: right;\">\n",
       "      <th>특성</th>\n",
       "      <th>2018</th>\n",
       "      <th>2019</th>\n",
       "      <th>2020</th>\n",
       "      <th>2021</th>\n",
       "      <th>농지면적순위</th>\n",
       "      <th>2018-2021 변화율</th>\n",
       "    </tr>\n",
       "    <tr>\n",
       "      <th>지역</th>\n",
       "      <th></th>\n",
       "      <th></th>\n",
       "      <th></th>\n",
       "      <th></th>\n",
       "      <th></th>\n",
       "      <th></th>\n",
       "    </tr>\n",
       "  </thead>\n",
       "  <tbody>\n",
       "    <tr>\n",
       "      <th>서울</th>\n",
       "      <td>712</td>\n",
       "      <td>678</td>\n",
       "      <td>628</td>\n",
       "      <td>1116</td>\n",
       "      <td>4</td>\n",
       "      <td>56.741573</td>\n",
       "    </tr>\n",
       "    <tr>\n",
       "      <th>부산</th>\n",
       "      <td>13597</td>\n",
       "      <td>12700</td>\n",
       "      <td>11075</td>\n",
       "      <td>12259</td>\n",
       "      <td>3</td>\n",
       "      <td>-9.840406</td>\n",
       "    </tr>\n",
       "    <tr>\n",
       "      <th>대구</th>\n",
       "      <td>16052</td>\n",
       "      <td>15148</td>\n",
       "      <td>15695</td>\n",
       "      <td>16699</td>\n",
       "      <td>2</td>\n",
       "      <td>4.030650</td>\n",
       "    </tr>\n",
       "    <tr>\n",
       "      <th>인천</th>\n",
       "      <td>56024</td>\n",
       "      <td>55443</td>\n",
       "      <td>56013</td>\n",
       "      <td>65119</td>\n",
       "      <td>1</td>\n",
       "      <td>16.234114</td>\n",
       "    </tr>\n",
       "  </tbody>\n",
       "</table>\n",
       "</div>"
      ],
      "text/plain": [
       "특성   2018   2019   2020   2021  농지면적순위  2018-2021 변화율\n",
       "지역                                                   \n",
       "서울    712    678    628   1116       4      56.741573\n",
       "부산  13597  12700  11075  12259       3      -9.840406\n",
       "대구  16052  15148  15695  16699       2       4.030650\n",
       "인천  56024  55443  56013  65119       1      16.234114"
      ]
     },
     "execution_count": 49,
     "metadata": {},
     "output_type": "execute_result"
    }
   ],
   "source": [
    "df"
   ]
  },
  {
   "cell_type": "code",
   "execution_count": 51,
   "id": "498aad3a",
   "metadata": {},
   "outputs": [
    {
     "data": {
      "text/html": [
       "<div>\n",
       "<style scoped>\n",
       "    .dataframe tbody tr th:only-of-type {\n",
       "        vertical-align: middle;\n",
       "    }\n",
       "\n",
       "    .dataframe tbody tr th {\n",
       "        vertical-align: top;\n",
       "    }\n",
       "\n",
       "    .dataframe thead th {\n",
       "        text-align: right;\n",
       "    }\n",
       "</style>\n",
       "<table border=\"1\" class=\"dataframe\">\n",
       "  <thead>\n",
       "    <tr style=\"text-align: right;\">\n",
       "      <th>특성</th>\n",
       "      <th>2018</th>\n",
       "      <th>2019</th>\n",
       "      <th>2020</th>\n",
       "      <th>2021</th>\n",
       "      <th>농지면적순위</th>\n",
       "      <th>2018-2021 변화율</th>\n",
       "    </tr>\n",
       "    <tr>\n",
       "      <th>지역</th>\n",
       "      <th></th>\n",
       "      <th></th>\n",
       "      <th></th>\n",
       "      <th></th>\n",
       "      <th></th>\n",
       "      <th></th>\n",
       "    </tr>\n",
       "  </thead>\n",
       "  <tbody>\n",
       "    <tr>\n",
       "      <th>서울</th>\n",
       "      <td>712</td>\n",
       "      <td>678</td>\n",
       "      <td>628</td>\n",
       "      <td>1116</td>\n",
       "      <td>4</td>\n",
       "      <td>56.741573</td>\n",
       "    </tr>\n",
       "  </tbody>\n",
       "</table>\n",
       "</div>"
      ],
      "text/plain": [
       "특성  2018  2019  2020  2021  농지면적순위  2018-2021 변화율\n",
       "지역                                               \n",
       "서울   712   678   628  1116       4      56.741573"
      ]
     },
     "execution_count": 51,
     "metadata": {},
     "output_type": "execute_result"
    }
   ],
   "source": [
    "df[:1]"
   ]
  },
  {
   "cell_type": "code",
   "execution_count": 52,
   "id": "5e8e2133",
   "metadata": {},
   "outputs": [
    {
     "data": {
      "text/html": [
       "<div>\n",
       "<style scoped>\n",
       "    .dataframe tbody tr th:only-of-type {\n",
       "        vertical-align: middle;\n",
       "    }\n",
       "\n",
       "    .dataframe tbody tr th {\n",
       "        vertical-align: top;\n",
       "    }\n",
       "\n",
       "    .dataframe thead th {\n",
       "        text-align: right;\n",
       "    }\n",
       "</style>\n",
       "<table border=\"1\" class=\"dataframe\">\n",
       "  <thead>\n",
       "    <tr style=\"text-align: right;\">\n",
       "      <th>특성</th>\n",
       "      <th>2018</th>\n",
       "      <th>2019</th>\n",
       "      <th>2020</th>\n",
       "      <th>2021</th>\n",
       "      <th>농지면적순위</th>\n",
       "      <th>2018-2021 변화율</th>\n",
       "    </tr>\n",
       "    <tr>\n",
       "      <th>지역</th>\n",
       "      <th></th>\n",
       "      <th></th>\n",
       "      <th></th>\n",
       "      <th></th>\n",
       "      <th></th>\n",
       "      <th></th>\n",
       "    </tr>\n",
       "  </thead>\n",
       "  <tbody>\n",
       "    <tr>\n",
       "      <th>서울</th>\n",
       "      <td>712</td>\n",
       "      <td>678</td>\n",
       "      <td>628</td>\n",
       "      <td>1116</td>\n",
       "      <td>4</td>\n",
       "      <td>56.741573</td>\n",
       "    </tr>\n",
       "    <tr>\n",
       "      <th>부산</th>\n",
       "      <td>13597</td>\n",
       "      <td>12700</td>\n",
       "      <td>11075</td>\n",
       "      <td>12259</td>\n",
       "      <td>3</td>\n",
       "      <td>-9.840406</td>\n",
       "    </tr>\n",
       "  </tbody>\n",
       "</table>\n",
       "</div>"
      ],
      "text/plain": [
       "특성   2018   2019   2020   2021  농지면적순위  2018-2021 변화율\n",
       "지역                                                   \n",
       "서울    712    678    628   1116       4      56.741573\n",
       "부산  13597  12700  11075  12259       3      -9.840406"
      ]
     },
     "execution_count": 52,
     "metadata": {},
     "output_type": "execute_result"
    }
   ],
   "source": [
    "df['서울':'부산']"
   ]
  },
  {
   "cell_type": "code",
   "execution_count": 55,
   "id": "cfc4287b",
   "metadata": {},
   "outputs": [
    {
     "data": {
      "text/html": [
       "<div>\n",
       "<style scoped>\n",
       "    .dataframe tbody tr th:only-of-type {\n",
       "        vertical-align: middle;\n",
       "    }\n",
       "\n",
       "    .dataframe tbody tr th {\n",
       "        vertical-align: top;\n",
       "    }\n",
       "\n",
       "    .dataframe thead th {\n",
       "        text-align: right;\n",
       "    }\n",
       "</style>\n",
       "<table border=\"1\" class=\"dataframe\">\n",
       "  <thead>\n",
       "    <tr style=\"text-align: right;\">\n",
       "      <th>특성</th>\n",
       "      <th>2018</th>\n",
       "      <th>2019</th>\n",
       "      <th>2020</th>\n",
       "      <th>2021</th>\n",
       "      <th>농지면적순위</th>\n",
       "      <th>2018-2021 변화율</th>\n",
       "    </tr>\n",
       "    <tr>\n",
       "      <th>지역</th>\n",
       "      <th></th>\n",
       "      <th></th>\n",
       "      <th></th>\n",
       "      <th></th>\n",
       "      <th></th>\n",
       "      <th></th>\n",
       "    </tr>\n",
       "  </thead>\n",
       "  <tbody>\n",
       "    <tr>\n",
       "      <th>부산</th>\n",
       "      <td>13597</td>\n",
       "      <td>12700</td>\n",
       "      <td>11075</td>\n",
       "      <td>12259</td>\n",
       "      <td>3</td>\n",
       "      <td>-9.840406</td>\n",
       "    </tr>\n",
       "    <tr>\n",
       "      <th>대구</th>\n",
       "      <td>16052</td>\n",
       "      <td>15148</td>\n",
       "      <td>15695</td>\n",
       "      <td>16699</td>\n",
       "      <td>2</td>\n",
       "      <td>4.030650</td>\n",
       "    </tr>\n",
       "  </tbody>\n",
       "</table>\n",
       "</div>"
      ],
      "text/plain": [
       "특성   2018   2019   2020   2021  농지면적순위  2018-2021 변화율\n",
       "지역                                                   \n",
       "부산  13597  12700  11075  12259       3      -9.840406\n",
       "대구  16052  15148  15695  16699       2       4.030650"
      ]
     },
     "execution_count": 55,
     "metadata": {},
     "output_type": "execute_result"
    }
   ],
   "source": [
    "# loc, iloc\n",
    "# 인덱스 접근의 경우 콜론(:)으로 접근 외에도 loc 또는 iloc 메서드를 이용하여 접근 할 수 있다.\n",
    "df.loc[['부산','대구']]"
   ]
  },
  {
   "cell_type": "code",
   "execution_count": 56,
   "id": "ab4981d6",
   "metadata": {},
   "outputs": [
    {
     "data": {
      "text/plain": [
       "특성\n",
       "2018              712.000000\n",
       "2019              678.000000\n",
       "2020              628.000000\n",
       "2021             1116.000000\n",
       "농지면적순위              4.000000\n",
       "2018-2021 변화율      56.741573\n",
       "Name: 서울, dtype: float64"
      ]
     },
     "execution_count": 56,
     "metadata": {},
     "output_type": "execute_result"
    }
   ],
   "source": [
    "df.iloc[0]"
   ]
  },
  {
   "cell_type": "code",
   "execution_count": 57,
   "id": "3a387c66",
   "metadata": {},
   "outputs": [
    {
     "data": {
      "text/plain": [
       "712"
      ]
     },
     "execution_count": 57,
     "metadata": {},
     "output_type": "execute_result"
    }
   ],
   "source": [
    "df.iloc[0,0]"
   ]
  },
  {
   "cell_type": "code",
   "execution_count": 58,
   "id": "c9f0d9ee",
   "metadata": {},
   "outputs": [
    {
     "data": {
      "text/plain": [
       "712"
      ]
     },
     "execution_count": 58,
     "metadata": {},
     "output_type": "execute_result"
    }
   ],
   "source": [
    "df['2018']['서울']"
   ]
  },
  {
   "cell_type": "code",
   "execution_count": 59,
   "id": "678e63d8",
   "metadata": {},
   "outputs": [
    {
     "data": {
      "text/plain": [
       "712.0"
      ]
     },
     "execution_count": 59,
     "metadata": {},
     "output_type": "execute_result"
    }
   ],
   "source": [
    "df.iloc[0][0]"
   ]
  },
  {
   "cell_type": "markdown",
   "id": "c224543b",
   "metadata": {},
   "source": [
    "# 실습\n",
    "1. 인덱스는 학생 5명(철수, 영희, 길동, 슬기)\n",
    "2. 컬럼은 4개(국어, 영어, 수학, 과학)\n",
    "a. 순서대로 국어 영어 수학 과학\n",
    "b. 철수 : 80, 90, 70, 30\n",
    "c. 영희 : 90, 50, 100, 50\n",
    "d. 길동 : 70, 60, 50, 80\n",
    "e. 슬기 : 50, 100, 70, 80\n",
    "3. 해당 데이터로 데이터 프레임 생성\n",
    "4. 각 학생들의 과목 평균 column 추가\n",
    "5. 과목별 평균 추가"
   ]
  },
  {
   "cell_type": "code",
   "execution_count": 86,
   "id": "d1a0e90f",
   "metadata": {},
   "outputs": [
    {
     "data": {
      "text/html": [
       "<div>\n",
       "<style scoped>\n",
       "    .dataframe tbody tr th:only-of-type {\n",
       "        vertical-align: middle;\n",
       "    }\n",
       "\n",
       "    .dataframe tbody tr th {\n",
       "        vertical-align: top;\n",
       "    }\n",
       "\n",
       "    .dataframe thead th {\n",
       "        text-align: right;\n",
       "    }\n",
       "</style>\n",
       "<table border=\"1\" class=\"dataframe\">\n",
       "  <thead>\n",
       "    <tr style=\"text-align: right;\">\n",
       "      <th></th>\n",
       "      <th>국어</th>\n",
       "      <th>영어</th>\n",
       "      <th>수학</th>\n",
       "      <th>과학</th>\n",
       "    </tr>\n",
       "  </thead>\n",
       "  <tbody>\n",
       "    <tr>\n",
       "      <th>철수</th>\n",
       "      <td>80</td>\n",
       "      <td>90</td>\n",
       "      <td>70</td>\n",
       "      <td>30</td>\n",
       "    </tr>\n",
       "    <tr>\n",
       "      <th>영희</th>\n",
       "      <td>90</td>\n",
       "      <td>50</td>\n",
       "      <td>100</td>\n",
       "      <td>50</td>\n",
       "    </tr>\n",
       "    <tr>\n",
       "      <th>길동</th>\n",
       "      <td>70</td>\n",
       "      <td>60</td>\n",
       "      <td>50</td>\n",
       "      <td>80</td>\n",
       "    </tr>\n",
       "    <tr>\n",
       "      <th>슬기</th>\n",
       "      <td>50</td>\n",
       "      <td>100</td>\n",
       "      <td>70</td>\n",
       "      <td>80</td>\n",
       "    </tr>\n",
       "  </tbody>\n",
       "</table>\n",
       "</div>"
      ],
      "text/plain": [
       "    국어   영어   수학  과학\n",
       "철수  80   90   70  30\n",
       "영희  90   50  100  50\n",
       "길동  70   60   50  80\n",
       "슬기  50  100   70  80"
      ]
     },
     "execution_count": 86,
     "metadata": {},
     "output_type": "execute_result"
    }
   ],
   "source": [
    "sdata = {\n",
    "    '과학' : [30,50,80,80],\n",
    "    '수학' : [70,100,50,70],\n",
    "    '영어' : [90,50,60,100],\n",
    "    '국어' : [80,90,70,50],\n",
    "}\n",
    "columns = ['국어','영어','수학','과학']\n",
    "index = ['철수','영희','길동','슬기']\n",
    "df = pd.DataFrame(sdata, index=index, columns=columns)\n",
    "df"
   ]
  },
  {
   "cell_type": "code",
   "execution_count": 87,
   "id": "2a70440a",
   "metadata": {},
   "outputs": [],
   "source": [
    "df['학생평균'] = df.mean(axis=1)"
   ]
  },
  {
   "cell_type": "code",
   "execution_count": 88,
   "id": "4c1803b5",
   "metadata": {},
   "outputs": [],
   "source": [
    "df.loc['과목평균'] = df.mean()"
   ]
  },
  {
   "cell_type": "code",
   "execution_count": 89,
   "id": "6a4d1a98",
   "metadata": {},
   "outputs": [
    {
     "data": {
      "text/html": [
       "<div>\n",
       "<style scoped>\n",
       "    .dataframe tbody tr th:only-of-type {\n",
       "        vertical-align: middle;\n",
       "    }\n",
       "\n",
       "    .dataframe tbody tr th {\n",
       "        vertical-align: top;\n",
       "    }\n",
       "\n",
       "    .dataframe thead th {\n",
       "        text-align: right;\n",
       "    }\n",
       "</style>\n",
       "<table border=\"1\" class=\"dataframe\">\n",
       "  <thead>\n",
       "    <tr style=\"text-align: right;\">\n",
       "      <th></th>\n",
       "      <th>국어</th>\n",
       "      <th>영어</th>\n",
       "      <th>수학</th>\n",
       "      <th>과학</th>\n",
       "      <th>학생평균</th>\n",
       "    </tr>\n",
       "  </thead>\n",
       "  <tbody>\n",
       "    <tr>\n",
       "      <th>철수</th>\n",
       "      <td>80.0</td>\n",
       "      <td>90.0</td>\n",
       "      <td>70.0</td>\n",
       "      <td>30.0</td>\n",
       "      <td>67.5</td>\n",
       "    </tr>\n",
       "    <tr>\n",
       "      <th>영희</th>\n",
       "      <td>90.0</td>\n",
       "      <td>50.0</td>\n",
       "      <td>100.0</td>\n",
       "      <td>50.0</td>\n",
       "      <td>72.5</td>\n",
       "    </tr>\n",
       "    <tr>\n",
       "      <th>길동</th>\n",
       "      <td>70.0</td>\n",
       "      <td>60.0</td>\n",
       "      <td>50.0</td>\n",
       "      <td>80.0</td>\n",
       "      <td>65.0</td>\n",
       "    </tr>\n",
       "    <tr>\n",
       "      <th>슬기</th>\n",
       "      <td>50.0</td>\n",
       "      <td>100.0</td>\n",
       "      <td>70.0</td>\n",
       "      <td>80.0</td>\n",
       "      <td>75.0</td>\n",
       "    </tr>\n",
       "    <tr>\n",
       "      <th>과목평균</th>\n",
       "      <td>72.5</td>\n",
       "      <td>75.0</td>\n",
       "      <td>72.5</td>\n",
       "      <td>60.0</td>\n",
       "      <td>70.0</td>\n",
       "    </tr>\n",
       "  </tbody>\n",
       "</table>\n",
       "</div>"
      ],
      "text/plain": [
       "        국어     영어     수학    과학  학생평균\n",
       "철수    80.0   90.0   70.0  30.0  67.5\n",
       "영희    90.0   50.0  100.0  50.0  72.5\n",
       "길동    70.0   60.0   50.0  80.0  65.0\n",
       "슬기    50.0  100.0   70.0  80.0  75.0\n",
       "과목평균  72.5   75.0   72.5  60.0  70.0"
      ]
     },
     "execution_count": 89,
     "metadata": {},
     "output_type": "execute_result"
    }
   ],
   "source": [
    "df"
   ]
  },
  {
   "cell_type": "code",
   "execution_count": 84,
   "id": "1ae63825",
   "metadata": {},
   "outputs": [],
   "source": [
    "# 학생평균 column 접근\n",
    "# df['학생평균'] = (df['국어'] + df['영어'] +df['수학']+ df['과학']) / 4"
   ]
  },
  {
   "cell_type": "code",
   "execution_count": 90,
   "id": "12933c53",
   "metadata": {},
   "outputs": [],
   "source": [
    "# df['과목평균'] = (df.loc['국어'] + df.loc['영어'] +df.loc['수학']+ df.loc['과학']) / 4"
   ]
  },
  {
   "cell_type": "code",
   "execution_count": null,
   "id": "055ef5d8",
   "metadata": {},
   "outputs": [],
   "source": [
    "# ~~ csv 파일 불러오기\n",
    "# df = pd.read_csv()"
   ]
  }
 ],
 "metadata": {
  "kernelspec": {
   "display_name": "Python 3.9.12 ('base')",
   "language": "python",
   "name": "python3"
  },
  "language_info": {
   "codemirror_mode": {
    "name": "ipython",
    "version": 3
   },
   "file_extension": ".py",
   "mimetype": "text/x-python",
   "name": "python",
   "nbconvert_exporter": "python",
   "pygments_lexer": "ipython3",
   "version": "3.9.12"
  },
  "vscode": {
   "interpreter": {
    "hash": "ad2bdc8ecc057115af97d19610ffacc2b4e99fae6737bb82f5d7fb13d2f2c186"
   }
  }
 },
 "nbformat": 4,
 "nbformat_minor": 5
}
