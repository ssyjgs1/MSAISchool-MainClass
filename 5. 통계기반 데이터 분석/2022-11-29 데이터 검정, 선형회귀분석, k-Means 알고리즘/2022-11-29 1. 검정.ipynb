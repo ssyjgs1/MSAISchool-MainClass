{
  "cells": [
    {
      "cell_type": "markdown",
      "metadata": {
        "id": "QH-b9PQPs2n1"
      },
      "source": [
        "# **검정**   \n",
        "어떤 가설이 맞는지 아닌지 확인하는 작업   \n",
        "어떤 확률분포가 있을 때 어떤 가설을 H라 하고 이를 증명하는 것이 통계적 가설 검정   \n",
        "\n",
        "## 가설\n",
        "\n",
        "### 귀무가설   \n",
        "    확률분포의 모수에 대한 가설\n",
        "    변화가 없다.\n",
        "    ex) 귀무가설 정규분포의 모수가 0이라고 예측 → 실제 모수값이 0인가?\n",
        "    ex) 신약의 효과가 없다.\n",
        "$$H_0:θ = θ_0$$\n",
        "\n",
        "### 대립가설\n",
        "    어떤 것과 차이가 난다.   \n",
        "    효과가 있다.   \n",
        "    귀무가설이 거짓이라면 대안적으로 참이 되는 가설   \n",
        "    정규분포의 평균이 μ가 아니다.\n",
        "    ex) 신약의 효과가 있다.\n",
        "$$H_0:θ = θ_0,\\quad H_a:θ \\neq θ_0$$"
      ]
    },
    {
      "cell_type": "markdown",
      "metadata": {
        "id": "9wdLrGgJv__3"
      },
      "source": [
        "## 검정 통계량   \n",
        "어떤 가설을 채택 혹은 기각을 하기 위해 기준이 되는 값   \n",
        "$$t=f(x1,x2,⋯,x_N)$$\n",
        "\n",
        "### 베르누이 분포의 확률변수\n",
        "$$t = Σx~Bin(t;N,μ)$$\n",
        "\n",
        "### 분산($σ2$)값이 정해지고 알고 있는 정규분포 확률변수   \n",
        "$$z = \\frac{\\bar{x}-μ}{\\frac{s}{\\sqrt{N}}}$$   "
      ]
    },
    {
      "cell_type": "markdown",
      "metadata": {
        "id": "i0lMsp6DyEod"
      },
      "source": [
        "## 유의 확률\n",
        "\n",
        "### p-value\n",
        "표본데이터가 해당 확률분포에서 나오기 쉬운 값인지 아닌지를 알 수 있는 수치   \n",
        "표본을 추출하고, 그 표본으로부터 얻은 정보를 기초로 해서 귀무가설이 참인지 거짓인지 판정(오류가 날 가능성 有), 귀무가설이 참이라고 가정했을 때 표본으로 얻어지는 통계치가 나타날 확률을 계산   \n",
        "\n",
        "이 확률 값을 p-value라고 함."
      ]
    },
    {
      "cell_type": "code",
      "execution_count": null,
      "metadata": {
        "colab": {
          "base_uri": "https://localhost:8080/"
        },
        "id": "HH7jWSMQrWo0",
        "outputId": "408dc779-8c92-4e8f-9656-d777a2d11c82"
      },
      "outputs": [
        {
          "name": "stdout",
          "output_type": "stream",
          "text": [
            "Looking in indexes: https://pypi.org/simple, https://us-python.pkg.dev/colab-wheels/public/simple/\n",
            "Collecting koreanize-matplotlib\n",
            "  Downloading koreanize_matplotlib-0.0.1-py3-none-any.whl (2.5 MB)\n",
            "\u001b[K     |████████████████████████████████| 2.5 MB 15.7 MB/s \n",
            "\u001b[?25hRequirement already satisfied: matplotlib in /usr/local/lib/python3.7/dist-packages (from koreanize-matplotlib) (3.2.2)\n",
            "Requirement already satisfied: kiwisolver>=1.0.1 in /usr/local/lib/python3.7/dist-packages (from matplotlib->koreanize-matplotlib) (1.4.4)\n",
            "Requirement already satisfied: pyparsing!=2.0.4,!=2.1.2,!=2.1.6,>=2.0.1 in /usr/local/lib/python3.7/dist-packages (from matplotlib->koreanize-matplotlib) (3.0.9)\n",
            "Requirement already satisfied: python-dateutil>=2.1 in /usr/local/lib/python3.7/dist-packages (from matplotlib->koreanize-matplotlib) (2.8.2)\n",
            "Requirement already satisfied: cycler>=0.10 in /usr/local/lib/python3.7/dist-packages (from matplotlib->koreanize-matplotlib) (0.11.0)\n",
            "Requirement already satisfied: numpy>=1.11 in /usr/local/lib/python3.7/dist-packages (from matplotlib->koreanize-matplotlib) (1.21.6)\n",
            "Requirement already satisfied: typing-extensions in /usr/local/lib/python3.7/dist-packages (from kiwisolver>=1.0.1->matplotlib->koreanize-matplotlib) (4.1.1)\n",
            "Requirement already satisfied: six>=1.5 in /usr/local/lib/python3.7/dist-packages (from python-dateutil>=2.1->matplotlib->koreanize-matplotlib) (1.15.0)\n",
            "Installing collected packages: koreanize-matplotlib\n",
            "Successfully installed koreanize-matplotlib-0.0.1\n"
          ]
        }
      ],
      "source": [
        "!pip install koreanize-matplotlib"
      ]
    },
    {
      "cell_type": "code",
      "execution_count": null,
      "metadata": {
        "colab": {
          "base_uri": "https://localhost:8080/"
        },
        "id": "ILcTJiHbtX0J",
        "outputId": "a5d30ec3-a82c-40a4-9733-8271fcdc27a3"
      },
      "outputs": [
        {
          "name": "stdout",
          "output_type": "stream",
          "text": [
            "Looking in indexes: https://pypi.org/simple, https://us-python.pkg.dev/colab-wheels/public/simple/\n",
            "Requirement already satisfied: scikit-learn in /usr/local/lib/python3.7/dist-packages (1.0.2)\n",
            "Requirement already satisfied: numpy>=1.14.6 in /usr/local/lib/python3.7/dist-packages (from scikit-learn) (1.21.6)\n",
            "Requirement already satisfied: threadpoolctl>=2.0.0 in /usr/local/lib/python3.7/dist-packages (from scikit-learn) (3.1.0)\n",
            "Requirement already satisfied: joblib>=0.11 in /usr/local/lib/python3.7/dist-packages (from scikit-learn) (1.2.0)\n",
            "Requirement already satisfied: scipy>=1.1.0 in /usr/local/lib/python3.7/dist-packages (from scikit-learn) (1.7.3)\n"
          ]
        }
      ],
      "source": [
        "!pip install scikit-learn"
      ]
    },
    {
      "cell_type": "code",
      "execution_count": null,
      "metadata": {
        "id": "-FOSJo7JtSpf"
      },
      "outputs": [],
      "source": [
        "from sklearn.datasets import load_iris\n",
        "from sklearn.datasets import load_boston\n",
        "from matplotlib.collections import PolyCollection\n",
        "from matplotlib import colors as mcolors\n",
        "from matplotlib.ticker import NullFormatter\n",
        "from matplotlib import transforms\n",
        "from matplotlib.colorbar import constrained_layout\n",
        "from scipy.integrate import simps\n",
        "from sklearn.impute import SimpleImputer\n",
        "import pandas as pd\n",
        "import seaborn as sns\n",
        "import matplotlib.pyplot as plt\n",
        "import matplotlib as mpl\n",
        "import matplotlib.tri as mtri\n",
        "import numpy as np\n",
        "import koreanize_matplotlib\n",
        "import string\n",
        "import scipy as sp\n",
        "import scipy.stats\n",
        "import random\n",
        "import statsmodels.api as sm\n",
        "import missingno as msno\n",
        "import patsy\n",
        "import warnings\n",
        "warnings.filterwarnings('ignore')\n",
        "from patsy import demo_data\n",
        "from patsy import dmatrix\n",
        "from sklearn.preprocessing import StandardScaler\n",
        "from sklearn.preprocessing import RobustScaler\n",
        "from sklearn.preprocessing import PolynomialFeatures\n",
        "from sklearn.preprocessing import FunctionTransformer"
      ]
    },
    {
      "cell_type": "code",
      "execution_count": null,
      "metadata": {
        "colab": {
          "base_uri": "https://localhost:8080/",
          "height": 302
        },
        "id": "lTEIh7qLy5vm",
        "outputId": "518269b1-e44d-4595-ec79-d2802f348254"
      },
      "outputs": [
        {
          "data": {
            "image/png": "[encoded data removed]",
            "text/plain": [
              "<Figure size 432x288 with 2 Axes>"
            ]
          },
          "metadata": {
            "needs_background": "light"
          },
          "output_type": "display_data"
        }
      ],
      "source": [
        "xx1 = np.linspace(-4,4,1000)\n",
        "\n",
        "plt.subplot(121)\n",
        "plt.grid()\n",
        "plt.title('가능성이 높은 검정통계량')\n",
        "plt.plot(xx1, scipy.stats.norm().pdf(xx1))\n",
        "plt.plot(0.5, 0, 'ro')\n",
        "plt.annotate('실제 검정 통계량', xy=(0.5,0.01),xytext=(0.85,0.1), arrowprops={'facecolor':'black'})\n",
        "\n",
        "plt.subplot(122)\n",
        "plt.title('가능성이 높은 검정통계량')\n",
        "plt.plot(xx1, scipy.stats.norm().pdf(xx1))\n",
        "plt.plot(2.2, 0, 'ro')\n",
        "plt.annotate('실제 검정 통계량', xy=(2.2,0.01),xytext=(0.85,0.1), arrowprops={'facecolor':'black'})\n",
        "\n",
        "plt.suptitle('검정통계량 분포와 실제 검정통계량의 값')\n",
        "plt.tight_layout()\n",
        "plt.grid()\n",
        "plt.show()"
      ]
    },
    {
      "cell_type": "markdown",
      "metadata": {
        "id": "_XuAXSCj1QXY"
      },
      "source": [
        "### 유의 수준\n",
        "유의 수준 1%, 5%\n",
        "유의 확률(α)이 유의 수준을 기준으로 귀무가설 채택 여부를 결정   \n",
        "유의 수준이 유의 확률보다 작으면 귀무가설을 기각하고 대립가설을 채택   \n"
      ]
    },
    {
      "cell_type": "markdown",
      "metadata": {
        "id": "Udd-o7yU1uer"
      },
      "source": [
        "### 검정 방법\n",
        "1. 데이터가 어떤 확률분포를 가지는 확률변수라 가정\n",
        "2. 해당하는 확률분포의 모수가 특정한 값을 가진다고 가정(=귀무가설)\n",
        "3. 검정 통계량을 계산하는 식에 대입한 결과에 따라 검정 통계량을 구함\n",
        "4. 귀무가설이 어떤 유의 확률을 가지고 있는지 확인\n",
        "5. 미리 정해둔 유의 수준보다 작은지 큰지 확인\n",
        "6. 유의 확률이 유의 수준보다 크면 귀무가설을 채택, 작으면 대립가설 채택"
      ]
    },
    {
      "cell_type": "markdown",
      "metadata": {
        "id": "oKXpqnNS2q9f"
      },
      "source": [
        "### 이항검정\n",
        "이항분포를 이용해 베르누이 확률변수의 모수 μ(1이 나올 확률)가 특정 값인지에 대한 귀무가설 검정"
      ]
    },
    {
      "cell_type": "code",
      "execution_count": null,
      "metadata": {
        "colab": {
          "base_uri": "https://localhost:8080/"
        },
        "id": "MjDOb4KyzlMg",
        "outputId": "6113964c-1d2c-4e55-e68d-ff72035219bb"
      },
      "outputs": [
        {
          "data": {
            "text/plain": [
              "7"
            ]
          },
          "execution_count": 9,
          "metadata": {},
          "output_type": "execute_result"
        }
      ],
      "source": [
        "N = 10 # 데이터 10개 추출\n",
        "mu_0 = 0.5 # 1 or 0\n",
        "np.random.seed(0)\n",
        "x = sp.stats.bernoulli(mu_0).rvs(N)\n",
        "n = np.count_nonzero(x)\n",
        "n"
      ]
    },
    {
      "cell_type": "code",
      "execution_count": null,
      "metadata": {
        "colab": {
          "base_uri": "https://localhost:8080/"
        },
        "id": "9M9qP6Vs3OjH",
        "outputId": "9249155c-97d0-46c8-ecf2-da7a7b9f36ad"
      },
      "outputs": [
        {
          "data": {
            "text/plain": [
              "0.34375"
            ]
          },
          "execution_count": 11,
          "metadata": {},
          "output_type": "execute_result"
        }
      ],
      "source": [
        "# 이항 검정 시작\n",
        "# 유의 수준 0.05(or 0.01)로 정해두고 시작\n",
        "# 결과값이 유의 수준보다 높아 귀무가설을 채택할 수 있음\n",
        "sp.stats.binom_test(n, N, 0.5)"
      ]
    },
    {
      "cell_type": "code",
      "execution_count": null,
      "metadata": {
        "colab": {
          "base_uri": "https://localhost:8080/"
        },
        "id": "Gd9tKLtu3jKn",
        "outputId": "5e79c48c-56f2-46dd-abbf-7c98f35f7674"
      },
      "outputs": [
        {
          "data": {
            "text/plain": [
              "49"
            ]
          },
          "execution_count": 12,
          "metadata": {},
          "output_type": "execute_result"
        }
      ],
      "source": [
        "# 데이터의 갯수가 100개일 때\n",
        "N=100\n",
        "mu_0 = 0.5\n",
        "np.random.seed(0)\n",
        "x = sp.stats.bernoulli(mu_0).rvs(N)\n",
        "n = np.count_nonzero(x)\n",
        "n"
      ]
    },
    {
      "cell_type": "code",
      "execution_count": null,
      "metadata": {
        "colab": {
          "base_uri": "https://localhost:8080/"
        },
        "id": "iffOnvx47cUn",
        "outputId": "8cf5a481-39c3-4641-df73-4c86907dce9c"
      },
      "outputs": [
        {
          "data": {
            "text/plain": [
              "0.9204107626128215"
            ]
          },
          "execution_count": 13,
          "metadata": {},
          "output_type": "execute_result"
        }
      ],
      "source": [
        "sp.stats.binom_test(n, N, 0.5)\n",
        "# 유의 확률이 0.92로 높은 값을 가지고 있으므로 귀무가설을 기각할 수 없다.\n",
        "# 따라서 μ가 0.5다."
      ]
    },
    {
      "cell_type": "code",
      "execution_count": null,
      "metadata": {
        "colab": {
          "base_uri": "https://localhost:8080/"
        },
        "id": "9MQphkYi7hjW",
        "outputId": "6b5327f1-ae07-420a-ba32-a625b01f49e6"
      },
      "outputs": [
        {
          "data": {
            "text/plain": [
              "31"
            ]
          },
          "execution_count": 14,
          "metadata": {},
          "output_type": "execute_result"
        }
      ],
      "source": [
        "N=100\n",
        "mu_0=0.35\n",
        "np.random.seed(0)\n",
        "x = sp.stats.bernoulli(mu_0).rvs(N)\n",
        "n = np.count_nonzero(x)\n",
        "n"
      ]
    },
    {
      "cell_type": "code",
      "execution_count": null,
      "metadata": {
        "colab": {
          "base_uri": "https://localhost:8080/"
        },
        "id": "iY1KGaQm8KX_",
        "outputId": "43f5638c-9a2d-4761-8413-27354e529c15"
      },
      "outputs": [
        {
          "data": {
            "text/plain": [
              "0.00018314322488235366"
            ]
          },
          "execution_count": 16,
          "metadata": {},
          "output_type": "execute_result"
        }
      ],
      "source": [
        "sp.stats.binom_test(n, N, 0.5) # 0.5는 귀무가설의 대상 μ\n",
        "# 유의 확률이 0.05보다 낮으므로 귀무가설을 채택할 수 없다.\n",
        "# 따라서 모수값은 0.5가 아니다."
      ]
    },
    {
      "cell_type": "markdown",
      "metadata": {
        "id": "E68mzBuL8lft"
      },
      "source": [
        "### 카이제곱 검정   \n",
        "카테고리의 분포의 모수에 대해서 검정"
      ]
    },
    {
      "cell_type": "code",
      "execution_count": null,
      "metadata": {
        "colab": {
          "base_uri": "https://localhost:8080/"
        },
        "id": "7KF8Ydi38Odm",
        "outputId": "d567e952-61ed-415d-8d8f-33d501262a15"
      },
      "outputs": [
        {
          "data": {
            "text/plain": [
              "array([0, 3, 5, 2])"
            ]
          },
          "execution_count": 18,
          "metadata": {},
          "output_type": "execute_result"
        }
      ],
      "source": [
        "N = 10\n",
        "K = 4 # 카테고리 갯수\n",
        "mu_0 = np.ones(K)/K\n",
        "# mu = (0.25, 0.25, 0.25, 0.25)\n",
        "np.random.seed(0)\n",
        "x = np.random.choice(K, N, p=mu_0)\n",
        "n = np.bincount(x, minlength=K)\n",
        "n"
      ]
    },
    {
      "cell_type": "code",
      "execution_count": null,
      "metadata": {
        "colab": {
          "base_uri": "https://localhost:8080/"
        },
        "id": "ox_19FAI9M9A",
        "outputId": "c01647f0-ecca-4fcb-d82c-e7edfc2fd015"
      },
      "outputs": [
        {
          "data": {
            "text/plain": [
              "Power_divergenceResult(statistic=5.199999999999999, pvalue=0.157724450396663)"
            ]
          },
          "execution_count": 19,
          "metadata": {},
          "output_type": "execute_result"
        }
      ],
      "source": [
        "# 귀무가설 : mu=(0.25, 0.25, 0.25, 0.25)\n",
        "sp.stats.chisquare(n)\n",
        "# 유의 수준 0.05보다 높은 0.157의 값이기 때문에 mu=(0.25, 0.25, 0.25, 0.25)\n",
        "# 검정을 실시하기 전에 유의 수준을 설정하는데 보통 0.05,0.01로 정합니다.\n",
        "# 유의 수준은 해당 표본집단이 어떤 모수(0.25, 0.25, 0.25, 0.25) → 모집단에서 해당 표본집단이 나올 확률"
      ]
    },
    {
      "cell_type": "code",
      "execution_count": null,
      "metadata": {
        "colab": {
          "base_uri": "https://localhost:8080/"
        },
        "id": "5x8SNTxg9sjV",
        "outputId": "9598a62f-9431-40e4-a58f-a9326a76f235"
      },
      "outputs": [
        {
          "data": {
            "text/plain": [
              "array([37, 32, 20, 11])"
            ]
          },
          "execution_count": 20,
          "metadata": {},
          "output_type": "execute_result"
        }
      ],
      "source": [
        "N = 100\n",
        "K = 4\n",
        "mu_0 = [0.35, 0.3, 0.2, 0.15]\n",
        "np.random.seed(0)\n",
        "x = np.random.choice(K, N, p=mu_0)\n",
        "n = np.bincount(x, minlength=K)\n",
        "n"
      ]
    },
    {
      "cell_type": "code",
      "execution_count": null,
      "metadata": {
        "colab": {
          "base_uri": "https://localhost:8080/"
        },
        "id": "HyiQ3sJcAjDu",
        "outputId": "fb5fe268-7886-416b-c6bf-3f112cd5acb8"
      },
      "outputs": [
        {
          "data": {
            "text/plain": [
              "Power_divergenceResult(statistic=16.56, pvalue=0.0008703471978912127)"
            ]
          },
          "execution_count": 21,
          "metadata": {},
          "output_type": "execute_result"
        }
      ],
      "source": [
        "sp.stats.chisquare(n)"
      ]
    },
    {
      "cell_type": "markdown",
      "metadata": {
        "id": "slSs0FpsBOyq"
      },
      "source": [
        "### 단일표본 z검정\n",
        "σ2의 값을 알고 있을 경우 정규분포 표본에 대한 모수를 조사하는 방법"
      ]
    },
    {
      "cell_type": "code",
      "execution_count": null,
      "metadata": {
        "colab": {
          "base_uri": "https://localhost:8080/"
        },
        "id": "E3Bx0SC-Aqbu",
        "outputId": "3a7f9f45-7333-4ba7-e87c-3e40aa018141"
      },
      "outputs": [
        {
          "data": {
            "text/plain": [
              "array([ 1.76405235,  0.40015721,  0.97873798,  2.2408932 ,  1.86755799,\n",
              "       -0.97727788,  0.95008842, -0.15135721, -0.10321885,  0.4105985 ])"
            ]
          },
          "execution_count": 22,
          "metadata": {},
          "output_type": "execute_result"
        }
      ],
      "source": [
        "# 모수 μ=0, σ2=1\n",
        "N = 10\n",
        "mu_0 = 0\n",
        "np.random.seed(0)\n",
        "x=sp.stats.norm(mu_0).rvs(N)\n",
        "x"
      ]
    },
    {
      "cell_type": "code",
      "execution_count": null,
      "metadata": {
        "colab": {
          "base_uri": "https://localhost:8080/"
        },
        "id": "t9LbOcDeBbMm",
        "outputId": "331b4968-53ab-4658-9e2f-c270c6f40aed"
      },
      "outputs": [
        {
          "data": {
            "text/plain": [
              "(2.3338341854824276, 0.019604406021683538)"
            ]
          },
          "execution_count": 23,
          "metadata": {},
          "output_type": "execute_result"
        }
      ],
      "source": [
        "def ztest_1samp(x, sigma2=1, mu=0):\n",
        "    z = (x.mean()-mu)/np.sqrt(sigma2/len(x))\n",
        "    return z, 2 * sp.stats.norm().sf(np.abs(z)) # sf부분은 (1 - 누적확률밀도함수)를 의미\n",
        "\n",
        "ztest_1samp(x, mu=0)"
      ]
    },
    {
      "cell_type": "markdown",
      "metadata": {
        "id": "Spk5P3HiDUtd"
      },
      "source": [
        "- 1종 오류(Type 1 Error)   \n",
        "    ↑↑위↑↑ 실습 코드처럼 귀무가설이 진실임에도 귀무가설이 유의 수준보다 작아서 귀무가설이 채택되지 못하는 경우   \n",
        "\n",
        "    보통 데이터의 수가 부족해서 나타나는 경우가 많음(표본의 갯수 N ≥ 30이어야 함)"
      ]
    },
    {
      "cell_type": "code",
      "execution_count": null,
      "metadata": {
        "id": "MJWh0PKQDLim"
      },
      "outputs": [],
      "source": [
        "N = 10000\n",
        "mu_0 = 0\n",
        "np.random.seed(0)\n",
        "x=sp.stats.norm(mu_0).rvs(N)"
      ]
    },
    {
      "cell_type": "code",
      "execution_count": null,
      "metadata": {
        "colab": {
          "base_uri": "https://localhost:8080/"
        },
        "id": "pyPuz3LxD6F9",
        "outputId": "4dae00ee-f06a-4e42-ed7c-7b99c146cdf9"
      },
      "outputs": [
        {
          "data": {
            "text/plain": [
              "(-1.8433720158265818, 0.06527471300870032)"
            ]
          },
          "execution_count": 28,
          "metadata": {},
          "output_type": "execute_result"
        }
      ],
      "source": [
        "ztest_1samp(x, mu=0)"
      ]
    },
    {
      "cell_type": "markdown",
      "metadata": {
        "id": "uA99_kPrEZb3"
      },
      "source": [
        "### 단일 표본 t 검정\n",
        "정규분포의 표본에 대해 기댓값을 조사하는 검정 방법\n",
        "$$\\frac{\\bar{x}-μ_0}{\\frac{s}{\\sqrt{N}}}$$"
      ]
    },
    {
      "cell_type": "code",
      "execution_count": null,
      "metadata": {
        "colab": {
          "base_uri": "https://localhost:8080/"
        },
        "id": "9nORKRK3EBgE",
        "outputId": "021a6646-6ce0-4c5e-e842-ede79173d01f"
      },
      "outputs": [
        {
          "data": {
            "text/plain": [
              "Ttest_1sampResult(statistic=2.28943967238967, pvalue=0.04781846490857058)"
            ]
          },
          "execution_count": 29,
          "metadata": {},
          "output_type": "execute_result"
        }
      ],
      "source": [
        "N = 10\n",
        "mu_0 = 0\n",
        "np.random.seed(0)\n",
        "x = sp.stats.norm(mu_0).rvs(N)\n",
        "# 단일 표본 t검정 중 popmean은 귀무가설의 대상이 되는 기댓값을 의미함\n",
        "sp.stats.ttest_1samp(x, popmean=0)"
      ]
    },
    {
      "cell_type": "code",
      "execution_count": null,
      "metadata": {
        "colab": {
          "base_uri": "https://localhost:8080/"
        },
        "id": "TxXJNFo8Hssb",
        "outputId": "7cc6c41a-a46b-438e-dac9-d0d6c7cbe670"
      },
      "outputs": [
        {
          "data": {
            "text/plain": [
              "Ttest_1sampResult(statistic=0.5904283402851698, pvalue=0.5562489158694675)"
            ]
          },
          "execution_count": 30,
          "metadata": {},
          "output_type": "execute_result"
        }
      ],
      "source": [
        "N = 100\n",
        "mu_0 = 0\n",
        "np.random.seed(0)\n",
        "x = sp.stats.norm(mu_0).rvs(N)\n",
        "# 단일 표본 t검정 중 popmean은 귀무가설의 대상이 되는 기댓값을 의미함\n",
        "sp.stats.ttest_1samp(x, popmean=0)"
      ]
    },
    {
      "cell_type": "markdown",
      "metadata": {
        "id": "2kJRT6r1IAga"
      },
      "source": [
        "## 독립 표본 t 검정\n",
        "두 개의 독립적인 정규분포의 데이터 셋을 사용해 두 정규분포의 기댓값이 동일한지 확인하는 검사\n",
        "- 두 개의 표본의 분산이 같을 경우\n",
        "$$ t = \\frac{\\bar{x_1} - \\bar{x_2}}{s⋅\\sqrt{\\frac{1}{N_1}+\\frac{1}{N_2}}}$$\n",
        "- 두 개의 표본이 분산이 같지 않을 경우\n",
        "$$ t = \\frac{\\bar{x_1} - \\bar{x_2}}{\\sqrt{\\frac{s^2}{N_1}+\\frac{s^2}{N_2}}}$$"
      ]
    },
    {
      "cell_type": "code",
      "execution_count": null,
      "metadata": {
        "colab": {
          "base_uri": "https://localhost:8080/",
          "height": 264
        },
        "id": "v8AwPsDfH22c",
        "outputId": "8bb9ce32-bd12-4023-e604-bbf301621f25"
      },
      "outputs": [
        {
          "data": {
            "image/png": "[encoded data removed]",
            "text/plain": [
              "<Figure size 432x288 with 1 Axes>"
            ]
          },
          "metadata": {
            "needs_background": "light"
          },
          "output_type": "display_data"
        }
      ],
      "source": [
        "N_1 = 100\n",
        "mu_1 = 0\n",
        "sigma_1 = 1\n",
        "N_2 = 100\n",
        "mu_2 = 0.5\n",
        "sigma_2 = 1\n",
        "\n",
        "np.random.seed(0)\n",
        "x1 = sp.stats.norm(mu_1, sigma_1).rvs(N_1)\n",
        "x2 = sp.stats.norm(mu_2, sigma_2).rvs(N_2)\n",
        "\n",
        "ax = sns.distplot(x1, kde=False, fit=sp.stats.norm, label='1번')\n",
        "ax = sns.distplot(x2, kde=False, fit=sp.stats.norm, label='2번')\n",
        "plt.legend()\n",
        "plt.grid()\n",
        "plt.show()"
      ]
    },
    {
      "cell_type": "code",
      "execution_count": null,
      "metadata": {
        "colab": {
          "base_uri": "https://localhost:8080/"
        },
        "id": "OCtO-Nc5KGOc",
        "outputId": "932563e8-e39d-4a3c-aeae-5d0d9f9dfd77"
      },
      "outputs": [
        {
          "data": {
            "text/plain": [
              "(0.059808015534485, 0.5820129707478374)"
            ]
          },
          "execution_count": 36,
          "metadata": {},
          "output_type": "execute_result"
        }
      ],
      "source": [
        "np.mean(x1), np.mean(x2)"
      ]
    },
    {
      "cell_type": "code",
      "execution_count": null,
      "metadata": {
        "colab": {
          "base_uri": "https://localhost:8080/"
        },
        "id": "cgnZBRklKQsb",
        "outputId": "b2553609-cd27-4769-b628-884ad4de79ab"
      },
      "outputs": [
        {
          "data": {
            "text/plain": [
              "Ttest_indResult(statistic=-3.597192759749613, pvalue=0.00040634222594880895)"
            ]
          },
          "execution_count": 37,
          "metadata": {},
          "output_type": "execute_result"
        }
      ],
      "source": [
        "# 귀무가설이 u0 = u1\n",
        "sp.stats.ttest_ind(x1, x2, equal_var=False)\n",
        "# 2종 오류(Type 2 Error)\n",
        "# 귀무가설이 거짓이지만, 귀무가설의 검정 결과는 참으로 나오는 오류"
      ]
    },
    {
      "cell_type": "markdown",
      "metadata": {
        "id": "mr_XqpR_LR-Z"
      },
      "source": [
        "- 2종 오류(Type 2 Error)   \n",
        "    ↑↑위↑↑ 실습 코드처럼 귀무가설이 거짓이지만, 귀무가설의 검정 결과는 참으로 나오는 오류   \n",
        "    데이터가 많아지면 해당 오류의 확률을 줄일 수 있다."
      ]
    },
    {
      "cell_type": "markdown",
      "metadata": {
        "id": "xtxBWkDfLvpe"
      },
      "source": [
        "### 대응표본 t 검정\n",
        "두 집단의 표본이 1대1 대응하는 경우 해당 검정을 시행할 수 있다.   \n",
        "ex) 학생들이 동일한 시간 동안 자습했을 때, 자습을 하기 전의 성적과 하고 나서의 성적이 1대1로 대응될 때, 자습에 대한 영향력을 검정하는 방법"
      ]
    },
    {
      "cell_type": "code",
      "execution_count": null,
      "metadata": {
        "colab": {
          "base_uri": "https://localhost:8080/",
          "height": 264
        },
        "id": "DCdZULz9Kj2L",
        "outputId": "224715f2-2fee-4b10-95bb-87a36a77b5ae"
      },
      "outputs": [
        {
          "data": {
            "image/png": "[encoded data removed]",
            "text/plain": [
              "<Figure size 432x288 with 1 Axes>"
            ]
          },
          "metadata": {
            "needs_background": "light"
          },
          "output_type": "display_data"
        }
      ],
      "source": [
        "N = 5\n",
        "mu_1 = 0\n",
        "mu_2 = 0.4\n",
        "np.random.seed(1)\n",
        "x1 = sp.stats.norm(mu_1).rvs(N)\n",
        "x2 = x1 + sp.stats.norm(mu_2).rvs(N)\n",
        "\n",
        "ax = sns.distplot(x1, kde=False, fit=sp.stats.norm, label='1번 데이터')\n",
        "ax = sns.distplot(x2, kde=False, fit=sp.stats.norm, label='2번 데이터')\n",
        "ax.lines[0].set_linestyle(':')\n",
        "plt.legend()\n",
        "plt.grid()\n",
        "plt.show()"
      ]
    },
    {
      "cell_type": "code",
      "execution_count": null,
      "metadata": {
        "colab": {
          "base_uri": "https://localhost:8080/"
        },
        "id": "ZEzVJesgMthM",
        "outputId": "b9fbff7e-eb56-4c35-834e-cbb1e75d51ba"
      },
      "outputs": [
        {
          "data": {
            "text/plain": [
              "Ttest_relResult(statistic=-0.22700222832126432, pvalue=0.8315516654768336)"
            ]
          },
          "execution_count": 40,
          "metadata": {},
          "output_type": "execute_result"
        }
      ],
      "source": [
        "# 귀무가설 x1, x2의 변화가 있다.\n",
        "sp.stats.ttest_rel(x1, x2)"
      ]
    },
    {
      "cell_type": "markdown",
      "metadata": {
        "id": "yLSg6aAcNdMU"
      },
      "source": [
        "### 등분산 검정\n",
        "분산이 같음을 확인하는 검정   \n",
        "두 개의 정규분포에서 생성된 데이터들의 분산 모수가 같은지 확인하는 검정   \n",
        "- bartlett 검정\n",
        "- fligner 검정\n",
        "- levene 검정"
      ]
    },
    {
      "cell_type": "code",
      "execution_count": null,
      "metadata": {
        "colab": {
          "base_uri": "https://localhost:8080/",
          "height": 264
        },
        "id": "eQa0RVQbNBkj",
        "outputId": "8df76a16-258f-45c7-9665-8bd16a5b953e"
      },
      "outputs": [
        {
          "data": {
            "image/png": "[encoded data removed]",
            "text/plain": [
              "<Figure size 432x288 with 1 Axes>"
            ]
          },
          "metadata": {
            "needs_background": "light"
          },
          "output_type": "display_data"
        }
      ],
      "source": [
        "N1 = 100\n",
        "N2 = 100\n",
        "sigma_1 = 1\n",
        "sigma_2 = 1.2\n",
        "\n",
        "np.random.seed(0)\n",
        "x1 = sp.stats.norm(0, sigma_1).rvs(N1)\n",
        "x2 = sp.stats.norm(0, sigma_2).rvs(N2)\n",
        "\n",
        "ax = sns.distplot(x1, kde=False, fit=sp.stats.norm, label='1번')\n",
        "ax = sns.distplot(x2, kde=False, fit=sp.stats.norm, label='2번')\n",
        "\n",
        "ax.lines[0].set_linestyle(':')\n",
        "plt.legend()\n",
        "plt.grid()\n",
        "plt.show()"
      ]
    },
    {
      "cell_type": "code",
      "execution_count": null,
      "metadata": {
        "colab": {
          "base_uri": "https://localhost:8080/"
        },
        "id": "kTUFUJCLOdB0",
        "outputId": "6e923205-e058-46ce-c47a-4731cb460b9d"
      },
      "outputs": [
        {
          "data": {
            "text/plain": [
              "(1.0078822447165796, 1.2416003969261071)"
            ]
          },
          "execution_count": 43,
          "metadata": {},
          "output_type": "execute_result"
        }
      ],
      "source": [
        "x1.std(), x2.std()"
      ]
    },
    {
      "cell_type": "code",
      "execution_count": null,
      "metadata": {
        "colab": {
          "base_uri": "https://localhost:8080/"
        },
        "id": "eXGHY4aCOkgr",
        "outputId": "d090fa3f-78e0-47b3-923b-e00926a51b28"
      },
      "outputs": [
        {
          "data": {
            "text/plain": [
              "BartlettResult(statistic=4.253473837232266, pvalue=0.039170128783651344)"
            ]
          },
          "execution_count": 44,
          "metadata": {},
          "output_type": "execute_result"
        }
      ],
      "source": [
        "# 귀무가설 :  x1, x2의 분산이 같다.\n",
        "sp.stats.bartlett(x1,x2)"
      ]
    },
    {
      "cell_type": "code",
      "execution_count": null,
      "metadata": {
        "colab": {
          "base_uri": "https://localhost:8080/"
        },
        "id": "roEMr_YQOsyC",
        "outputId": "ff2b8cb0-83ee-431b-afe3-699ebe38e828"
      },
      "outputs": [
        {
          "data": {
            "text/plain": [
              "FlignerResult(statistic=7.224841990409457, pvalue=0.007190150106748367)"
            ]
          },
          "execution_count": 45,
          "metadata": {},
          "output_type": "execute_result"
        }
      ],
      "source": [
        "sp.stats.fligner(x1,x2)"
      ]
    },
    {
      "cell_type": "code",
      "execution_count": null,
      "metadata": {
        "colab": {
          "base_uri": "https://localhost:8080/"
        },
        "id": "nAkiMVTuO6nb",
        "outputId": "0452a1ff-7fc6-46ca-eb4e-644a63e5f19a"
      },
      "outputs": [
        {
          "data": {
            "text/plain": [
              "LeveneResult(statistic=7.680708947679437, pvalue=0.0061135154970207925)"
            ]
          },
          "execution_count": 46,
          "metadata": {},
          "output_type": "execute_result"
        }
      ],
      "source": [
        "sp.stats.levene(x1,x2)"
      ]
    },
    {
      "cell_type": "markdown",
      "metadata": {
        "id": "0Yq_RXg9PMKx"
      },
      "source": [
        "### 정규성 검정\n",
        "확률분포가 가우시안 정규분포를 따르는지 확인하는 검정\n",
        "- 콜모고로프-스미르노프 검정\n",
        "- 샤피로-월크 검정\n",
        "- 앤더스-달링 검정"
      ]
    },
    {
      "cell_type": "code",
      "execution_count": null,
      "metadata": {
        "colab": {
          "base_uri": "https://localhost:8080/",
          "height": 264
        },
        "id": "lWGFk-UxO-rr",
        "outputId": "98705870-776d-42c7-a92e-6b3b48b32d36"
      },
      "outputs": [
        {
          "data": {
            "image/png": "[encoded data removed]",
            "text/plain": [
              "<Figure size 432x288 with 1 Axes>"
            ]
          },
          "metadata": {
            "needs_background": "light"
          },
          "output_type": "display_data"
        }
      ],
      "source": [
        "np.random.seed(0)\n",
        "N1 = 50\n",
        "N2 = 100\n",
        "\n",
        "x1 = sp.stats.norm(0,1).rvs(N1)\n",
        "x2 = sp.stats.norm(0,1.5).rvs(N2)\n",
        "\n",
        "ax = sns.distplot(x1, kde=False, fit=sp.stats.norm, label='1번')\n",
        "ax = sns.distplot(x2, kde=False, fit=sp.stats.norm, label='2번')\n",
        "\n",
        "ax.lines[0].set_linestyle(':')\n",
        "plt.legend()\n",
        "plt.grid()\n",
        "plt.show()"
      ]
    },
    {
      "cell_type": "code",
      "execution_count": null,
      "metadata": {
        "colab": {
          "base_uri": "https://localhost:8080/"
        },
        "id": "9aPvqD5nP6wT",
        "outputId": "c690507f-6cc7-47b7-88e5-f915a1a50b2b"
      },
      "outputs": [
        {
          "data": {
            "text/plain": [
              "KstestResult(statistic=0.13, pvalue=0.613749001553477)"
            ]
          },
          "execution_count": 48,
          "metadata": {},
          "output_type": "execute_result"
        }
      ],
      "source": [
        "# 콜모고로프-스미르노프 검정\n",
        "sp.stats.ks_2samp(x1,x2)"
      ]
    },
    {
      "cell_type": "code",
      "execution_count": null,
      "metadata": {
        "colab": {
          "base_uri": "https://localhost:8080/"
        },
        "id": "3AWxEt5hQDQC",
        "outputId": "3478edd8-762d-40c5-a5bc-319eaf2d3712"
      },
      "outputs": [
        {
          "data": {
            "text/plain": [
              "(ShapiroResult(statistic=0.987645149230957, pvalue=0.8765420317649841),\n",
              " ShapiroResult(statistic=0.9792247414588928, pvalue=0.1156543642282486))"
            ]
          },
          "execution_count": 51,
          "metadata": {},
          "output_type": "execute_result"
        }
      ],
      "source": [
        "# 샤피로-월크 검정\n",
        "sp.stats.shapiro(x1), sp.stats.shapiro(x2)"
      ]
    },
    {
      "cell_type": "code",
      "execution_count": null,
      "metadata": {
        "colab": {
          "base_uri": "https://localhost:8080/"
        },
        "id": "jyPIulOaQRlT",
        "outputId": "c239aa4b-8ff2-4b33-a2b9-d94ee6f1367d"
      },
      "outputs": [
        {
          "data": {
            "text/plain": [
              "(AndersonResult(statistic=0.15006999533388665, critical_values=array([0.538, 0.613, 0.736, 0.858, 1.021]), significance_level=array([15. , 10. ,  5. ,  2.5,  1. ])),\n",
              " AndersonResult(statistic=0.4543740062576944, critical_values=array([0.555, 0.632, 0.759, 0.885, 1.053]), significance_level=array([15. , 10. ,  5. ,  2.5,  1. ])))"
            ]
          },
          "execution_count": 52,
          "metadata": {},
          "output_type": "execute_result"
        }
      ],
      "source": [
        "# 앤더스-달링 검정\n",
        "sp.stats.anderson(x1), sp.stats.anderson(x2)"
      ]
    }
  ],
  "metadata": {
    "colab": {
      "provenance": []
    },
    "kernelspec": {
      "display_name": "Python 3",
      "name": "python3"
    },
    "language_info": {
      "name": "python"
    }
  },
  "nbformat": 4,
  "nbformat_minor": 0
}
